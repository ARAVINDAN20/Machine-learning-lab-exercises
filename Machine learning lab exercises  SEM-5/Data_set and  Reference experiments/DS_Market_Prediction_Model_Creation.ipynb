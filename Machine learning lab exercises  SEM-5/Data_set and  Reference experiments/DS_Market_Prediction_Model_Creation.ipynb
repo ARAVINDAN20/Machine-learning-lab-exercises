{
  "cells": [
    {
      "cell_type": "code",
      "execution_count": null,
      "id": "88d67c13-1dca-451c-85d5-eb234183c342",
      "metadata": {
        "id": "88d67c13-1dca-451c-85d5-eb234183c342"
      },
      "outputs": [],
      "source": [
        "import numpy as np\n",
        "import pandas as pd\n",
        "import matplotlib.pyplot as plt\n",
        "import yfinance as yf"
      ]
    },
    {
      "cell_type": "code",
      "execution_count": null,
      "id": "f3bc102c-1442-4cae-9093-f77f2b7b7e0c",
      "metadata": {
        "colab": {
          "base_uri": "https://localhost:8080/"
        },
        "id": "f3bc102c-1442-4cae-9093-f77f2b7b7e0c",
        "outputId": "14b36785-e19b-43ff-b178-b7a31ac55f19"
      },
      "outputs": [
        {
          "output_type": "stream",
          "name": "stderr",
          "text": [
            "\r[*********************100%%**********************]  1 of 1 completed\n"
          ]
        }
      ],
      "source": [
        "start = '2022-01-01'\n",
        "end = '2024-04-10'\n",
        "stock = 'TATAMOTORS.NS'\n",
        "\n",
        "data = yf.download(stock, start, end)"
      ]
    },
    {
      "cell_type": "code",
      "execution_count": null,
      "id": "8657c12a-ec44-4ea9-80c9-7ecbec9b0084",
      "metadata": {
        "id": "8657c12a-ec44-4ea9-80c9-7ecbec9b0084"
      },
      "outputs": [],
      "source": [
        "# data.reset_index(inplace=True)"
      ]
    },
    {
      "cell_type": "code",
      "execution_count": null,
      "id": "e8fadd81-946b-47fc-b014-8ecf059302ce",
      "metadata": {
        "colab": {
          "base_uri": "https://localhost:8080/",
          "height": 455
        },
        "id": "e8fadd81-946b-47fc-b014-8ecf059302ce",
        "outputId": "04b39da7-21f4-4916-90fe-815f9460ac1a"
      },
      "outputs": [
        {
          "output_type": "execute_result",
          "data": {
            "text/plain": [
              "                   Open         High          Low        Close    Adj Close  \\\n",
              "Date                                                                          \n",
              "2022-01-03   493.500000   500.850006   492.000000   497.600006   496.053955   \n",
              "2022-01-04   496.799988   499.000000   484.049988   489.600006   488.078827   \n",
              "2022-01-05   486.950012   492.750000   483.549988   489.750000   488.228333   \n",
              "2022-01-06   481.500000   492.950012   477.100006   488.850006   487.331146   \n",
              "2022-01-07   490.049988   495.500000   483.750000   490.600006   489.075714   \n",
              "...                 ...          ...          ...          ...          ...   \n",
              "2024-04-03  1004.000000  1014.450012   992.549988  1009.150024  1009.150024   \n",
              "2024-04-04  1016.000000  1017.000000   998.150024  1011.599976  1011.599976   \n",
              "2024-04-05  1011.599976  1012.500000  1004.400024  1007.099976  1007.099976   \n",
              "2024-04-08  1010.049988  1016.400024  1004.000000  1013.200012  1013.200012   \n",
              "2024-04-09  1021.000000  1029.500000  1005.000000  1008.500000  1008.500000   \n",
              "\n",
              "              Volume  \n",
              "Date                  \n",
              "2022-01-03  32748423  \n",
              "2022-01-04  24100985  \n",
              "2022-01-05  15420105  \n",
              "2022-01-06  16563230  \n",
              "2022-01-07  15532165  \n",
              "...              ...  \n",
              "2024-04-03   8040366  \n",
              "2024-04-04   9138276  \n",
              "2024-04-05   4519120  \n",
              "2024-04-08   5188052  \n",
              "2024-04-09   8539041  \n",
              "\n",
              "[560 rows x 6 columns]"
            ],
            "text/html": [
              "\n",
              "  <div id=\"df-76ef4ae2-283e-4109-9b5f-d917a307924c\" class=\"colab-df-container\">\n",
              "    <div>\n",
              "<style scoped>\n",
              "    .dataframe tbody tr th:only-of-type {\n",
              "        vertical-align: middle;\n",
              "    }\n",
              "\n",
              "    .dataframe tbody tr th {\n",
              "        vertical-align: top;\n",
              "    }\n",
              "\n",
              "    .dataframe thead th {\n",
              "        text-align: right;\n",
              "    }\n",
              "</style>\n",
              "<table border=\"1\" class=\"dataframe\">\n",
              "  <thead>\n",
              "    <tr style=\"text-align: right;\">\n",
              "      <th></th>\n",
              "      <th>Open</th>\n",
              "      <th>High</th>\n",
              "      <th>Low</th>\n",
              "      <th>Close</th>\n",
              "      <th>Adj Close</th>\n",
              "      <th>Volume</th>\n",
              "    </tr>\n",
              "    <tr>\n",
              "      <th>Date</th>\n",
              "      <th></th>\n",
              "      <th></th>\n",
              "      <th></th>\n",
              "      <th></th>\n",
              "      <th></th>\n",
              "      <th></th>\n",
              "    </tr>\n",
              "  </thead>\n",
              "  <tbody>\n",
              "    <tr>\n",
              "      <th>2022-01-03</th>\n",
              "      <td>493.500000</td>\n",
              "      <td>500.850006</td>\n",
              "      <td>492.000000</td>\n",
              "      <td>497.600006</td>\n",
              "      <td>496.053955</td>\n",
              "      <td>32748423</td>\n",
              "    </tr>\n",
              "    <tr>\n",
              "      <th>2022-01-04</th>\n",
              "      <td>496.799988</td>\n",
              "      <td>499.000000</td>\n",
              "      <td>484.049988</td>\n",
              "      <td>489.600006</td>\n",
              "      <td>488.078827</td>\n",
              "      <td>24100985</td>\n",
              "    </tr>\n",
              "    <tr>\n",
              "      <th>2022-01-05</th>\n",
              "      <td>486.950012</td>\n",
              "      <td>492.750000</td>\n",
              "      <td>483.549988</td>\n",
              "      <td>489.750000</td>\n",
              "      <td>488.228333</td>\n",
              "      <td>15420105</td>\n",
              "    </tr>\n",
              "    <tr>\n",
              "      <th>2022-01-06</th>\n",
              "      <td>481.500000</td>\n",
              "      <td>492.950012</td>\n",
              "      <td>477.100006</td>\n",
              "      <td>488.850006</td>\n",
              "      <td>487.331146</td>\n",
              "      <td>16563230</td>\n",
              "    </tr>\n",
              "    <tr>\n",
              "      <th>2022-01-07</th>\n",
              "      <td>490.049988</td>\n",
              "      <td>495.500000</td>\n",
              "      <td>483.750000</td>\n",
              "      <td>490.600006</td>\n",
              "      <td>489.075714</td>\n",
              "      <td>15532165</td>\n",
              "    </tr>\n",
              "    <tr>\n",
              "      <th>...</th>\n",
              "      <td>...</td>\n",
              "      <td>...</td>\n",
              "      <td>...</td>\n",
              "      <td>...</td>\n",
              "      <td>...</td>\n",
              "      <td>...</td>\n",
              "    </tr>\n",
              "    <tr>\n",
              "      <th>2024-04-03</th>\n",
              "      <td>1004.000000</td>\n",
              "      <td>1014.450012</td>\n",
              "      <td>992.549988</td>\n",
              "      <td>1009.150024</td>\n",
              "      <td>1009.150024</td>\n",
              "      <td>8040366</td>\n",
              "    </tr>\n",
              "    <tr>\n",
              "      <th>2024-04-04</th>\n",
              "      <td>1016.000000</td>\n",
              "      <td>1017.000000</td>\n",
              "      <td>998.150024</td>\n",
              "      <td>1011.599976</td>\n",
              "      <td>1011.599976</td>\n",
              "      <td>9138276</td>\n",
              "    </tr>\n",
              "    <tr>\n",
              "      <th>2024-04-05</th>\n",
              "      <td>1011.599976</td>\n",
              "      <td>1012.500000</td>\n",
              "      <td>1004.400024</td>\n",
              "      <td>1007.099976</td>\n",
              "      <td>1007.099976</td>\n",
              "      <td>4519120</td>\n",
              "    </tr>\n",
              "    <tr>\n",
              "      <th>2024-04-08</th>\n",
              "      <td>1010.049988</td>\n",
              "      <td>1016.400024</td>\n",
              "      <td>1004.000000</td>\n",
              "      <td>1013.200012</td>\n",
              "      <td>1013.200012</td>\n",
              "      <td>5188052</td>\n",
              "    </tr>\n",
              "    <tr>\n",
              "      <th>2024-04-09</th>\n",
              "      <td>1021.000000</td>\n",
              "      <td>1029.500000</td>\n",
              "      <td>1005.000000</td>\n",
              "      <td>1008.500000</td>\n",
              "      <td>1008.500000</td>\n",
              "      <td>8539041</td>\n",
              "    </tr>\n",
              "  </tbody>\n",
              "</table>\n",
              "<p>560 rows × 6 columns</p>\n",
              "</div>\n",
              "    <div class=\"colab-df-buttons\">\n",
              "\n",
              "  <div class=\"colab-df-container\">\n",
              "    <button class=\"colab-df-convert\" onclick=\"convertToInteractive('df-76ef4ae2-283e-4109-9b5f-d917a307924c')\"\n",
              "            title=\"Convert this dataframe to an interactive table.\"\n",
              "            style=\"display:none;\">\n",
              "\n",
              "  <svg xmlns=\"http://www.w3.org/2000/svg\" height=\"24px\" viewBox=\"0 -960 960 960\">\n",
              "    <path d=\"M120-120v-720h720v720H120Zm60-500h600v-160H180v160Zm220 220h160v-160H400v160Zm0 220h160v-160H400v160ZM180-400h160v-160H180v160Zm440 0h160v-160H620v160ZM180-180h160v-160H180v160Zm440 0h160v-160H620v160Z\"/>\n",
              "  </svg>\n",
              "    </button>\n",
              "\n",
              "  <style>\n",
              "    .colab-df-container {\n",
              "      display:flex;\n",
              "      gap: 12px;\n",
              "    }\n",
              "\n",
              "    .colab-df-convert {\n",
              "      background-color: #E8F0FE;\n",
              "      border: none;\n",
              "      border-radius: 50%;\n",
              "      cursor: pointer;\n",
              "      display: none;\n",
              "      fill: #1967D2;\n",
              "      height: 32px;\n",
              "      padding: 0 0 0 0;\n",
              "      width: 32px;\n",
              "    }\n",
              "\n",
              "    .colab-df-convert:hover {\n",
              "      background-color: #E2EBFA;\n",
              "      box-shadow: 0px 1px 2px rgba(60, 64, 67, 0.3), 0px 1px 3px 1px rgba(60, 64, 67, 0.15);\n",
              "      fill: #174EA6;\n",
              "    }\n",
              "\n",
              "    .colab-df-buttons div {\n",
              "      margin-bottom: 4px;\n",
              "    }\n",
              "\n",
              "    [theme=dark] .colab-df-convert {\n",
              "      background-color: #3B4455;\n",
              "      fill: #D2E3FC;\n",
              "    }\n",
              "\n",
              "    [theme=dark] .colab-df-convert:hover {\n",
              "      background-color: #434B5C;\n",
              "      box-shadow: 0px 1px 3px 1px rgba(0, 0, 0, 0.15);\n",
              "      filter: drop-shadow(0px 1px 2px rgba(0, 0, 0, 0.3));\n",
              "      fill: #FFFFFF;\n",
              "    }\n",
              "  </style>\n",
              "\n",
              "    <script>\n",
              "      const buttonEl =\n",
              "        document.querySelector('#df-76ef4ae2-283e-4109-9b5f-d917a307924c button.colab-df-convert');\n",
              "      buttonEl.style.display =\n",
              "        google.colab.kernel.accessAllowed ? 'block' : 'none';\n",
              "\n",
              "      async function convertToInteractive(key) {\n",
              "        const element = document.querySelector('#df-76ef4ae2-283e-4109-9b5f-d917a307924c');\n",
              "        const dataTable =\n",
              "          await google.colab.kernel.invokeFunction('convertToInteractive',\n",
              "                                                    [key], {});\n",
              "        if (!dataTable) return;\n",
              "\n",
              "        const docLinkHtml = 'Like what you see? Visit the ' +\n",
              "          '<a target=\"_blank\" href=https://colab.research.google.com/notebooks/data_table.ipynb>data table notebook</a>'\n",
              "          + ' to learn more about interactive tables.';\n",
              "        element.innerHTML = '';\n",
              "        dataTable['output_type'] = 'display_data';\n",
              "        await google.colab.output.renderOutput(dataTable, element);\n",
              "        const docLink = document.createElement('div');\n",
              "        docLink.innerHTML = docLinkHtml;\n",
              "        element.appendChild(docLink);\n",
              "      }\n",
              "    </script>\n",
              "  </div>\n",
              "\n",
              "\n",
              "<div id=\"df-046a6560-47c5-43fa-b747-443544355a23\">\n",
              "  <button class=\"colab-df-quickchart\" onclick=\"quickchart('df-046a6560-47c5-43fa-b747-443544355a23')\"\n",
              "            title=\"Suggest charts\"\n",
              "            style=\"display:none;\">\n",
              "\n",
              "<svg xmlns=\"http://www.w3.org/2000/svg\" height=\"24px\"viewBox=\"0 0 24 24\"\n",
              "     width=\"24px\">\n",
              "    <g>\n",
              "        <path d=\"M19 3H5c-1.1 0-2 .9-2 2v14c0 1.1.9 2 2 2h14c1.1 0 2-.9 2-2V5c0-1.1-.9-2-2-2zM9 17H7v-7h2v7zm4 0h-2V7h2v10zm4 0h-2v-4h2v4z\"/>\n",
              "    </g>\n",
              "</svg>\n",
              "  </button>\n",
              "\n",
              "<style>\n",
              "  .colab-df-quickchart {\n",
              "      --bg-color: #E8F0FE;\n",
              "      --fill-color: #1967D2;\n",
              "      --hover-bg-color: #E2EBFA;\n",
              "      --hover-fill-color: #174EA6;\n",
              "      --disabled-fill-color: #AAA;\n",
              "      --disabled-bg-color: #DDD;\n",
              "  }\n",
              "\n",
              "  [theme=dark] .colab-df-quickchart {\n",
              "      --bg-color: #3B4455;\n",
              "      --fill-color: #D2E3FC;\n",
              "      --hover-bg-color: #434B5C;\n",
              "      --hover-fill-color: #FFFFFF;\n",
              "      --disabled-bg-color: #3B4455;\n",
              "      --disabled-fill-color: #666;\n",
              "  }\n",
              "\n",
              "  .colab-df-quickchart {\n",
              "    background-color: var(--bg-color);\n",
              "    border: none;\n",
              "    border-radius: 50%;\n",
              "    cursor: pointer;\n",
              "    display: none;\n",
              "    fill: var(--fill-color);\n",
              "    height: 32px;\n",
              "    padding: 0;\n",
              "    width: 32px;\n",
              "  }\n",
              "\n",
              "  .colab-df-quickchart:hover {\n",
              "    background-color: var(--hover-bg-color);\n",
              "    box-shadow: 0 1px 2px rgba(60, 64, 67, 0.3), 0 1px 3px 1px rgba(60, 64, 67, 0.15);\n",
              "    fill: var(--button-hover-fill-color);\n",
              "  }\n",
              "\n",
              "  .colab-df-quickchart-complete:disabled,\n",
              "  .colab-df-quickchart-complete:disabled:hover {\n",
              "    background-color: var(--disabled-bg-color);\n",
              "    fill: var(--disabled-fill-color);\n",
              "    box-shadow: none;\n",
              "  }\n",
              "\n",
              "  .colab-df-spinner {\n",
              "    border: 2px solid var(--fill-color);\n",
              "    border-color: transparent;\n",
              "    border-bottom-color: var(--fill-color);\n",
              "    animation:\n",
              "      spin 1s steps(1) infinite;\n",
              "  }\n",
              "\n",
              "  @keyframes spin {\n",
              "    0% {\n",
              "      border-color: transparent;\n",
              "      border-bottom-color: var(--fill-color);\n",
              "      border-left-color: var(--fill-color);\n",
              "    }\n",
              "    20% {\n",
              "      border-color: transparent;\n",
              "      border-left-color: var(--fill-color);\n",
              "      border-top-color: var(--fill-color);\n",
              "    }\n",
              "    30% {\n",
              "      border-color: transparent;\n",
              "      border-left-color: var(--fill-color);\n",
              "      border-top-color: var(--fill-color);\n",
              "      border-right-color: var(--fill-color);\n",
              "    }\n",
              "    40% {\n",
              "      border-color: transparent;\n",
              "      border-right-color: var(--fill-color);\n",
              "      border-top-color: var(--fill-color);\n",
              "    }\n",
              "    60% {\n",
              "      border-color: transparent;\n",
              "      border-right-color: var(--fill-color);\n",
              "    }\n",
              "    80% {\n",
              "      border-color: transparent;\n",
              "      border-right-color: var(--fill-color);\n",
              "      border-bottom-color: var(--fill-color);\n",
              "    }\n",
              "    90% {\n",
              "      border-color: transparent;\n",
              "      border-bottom-color: var(--fill-color);\n",
              "    }\n",
              "  }\n",
              "</style>\n",
              "\n",
              "  <script>\n",
              "    async function quickchart(key) {\n",
              "      const quickchartButtonEl =\n",
              "        document.querySelector('#' + key + ' button');\n",
              "      quickchartButtonEl.disabled = true;  // To prevent multiple clicks.\n",
              "      quickchartButtonEl.classList.add('colab-df-spinner');\n",
              "      try {\n",
              "        const charts = await google.colab.kernel.invokeFunction(\n",
              "            'suggestCharts', [key], {});\n",
              "      } catch (error) {\n",
              "        console.error('Error during call to suggestCharts:', error);\n",
              "      }\n",
              "      quickchartButtonEl.classList.remove('colab-df-spinner');\n",
              "      quickchartButtonEl.classList.add('colab-df-quickchart-complete');\n",
              "    }\n",
              "    (() => {\n",
              "      let quickchartButtonEl =\n",
              "        document.querySelector('#df-046a6560-47c5-43fa-b747-443544355a23 button');\n",
              "      quickchartButtonEl.style.display =\n",
              "        google.colab.kernel.accessAllowed ? 'block' : 'none';\n",
              "    })();\n",
              "  </script>\n",
              "</div>\n",
              "\n",
              "  <div id=\"id_9455850a-71c2-4c92-bf7f-dcffdc757558\">\n",
              "    <style>\n",
              "      .colab-df-generate {\n",
              "        background-color: #E8F0FE;\n",
              "        border: none;\n",
              "        border-radius: 50%;\n",
              "        cursor: pointer;\n",
              "        display: none;\n",
              "        fill: #1967D2;\n",
              "        height: 32px;\n",
              "        padding: 0 0 0 0;\n",
              "        width: 32px;\n",
              "      }\n",
              "\n",
              "      .colab-df-generate:hover {\n",
              "        background-color: #E2EBFA;\n",
              "        box-shadow: 0px 1px 2px rgba(60, 64, 67, 0.3), 0px 1px 3px 1px rgba(60, 64, 67, 0.15);\n",
              "        fill: #174EA6;\n",
              "      }\n",
              "\n",
              "      [theme=dark] .colab-df-generate {\n",
              "        background-color: #3B4455;\n",
              "        fill: #D2E3FC;\n",
              "      }\n",
              "\n",
              "      [theme=dark] .colab-df-generate:hover {\n",
              "        background-color: #434B5C;\n",
              "        box-shadow: 0px 1px 3px 1px rgba(0, 0, 0, 0.15);\n",
              "        filter: drop-shadow(0px 1px 2px rgba(0, 0, 0, 0.3));\n",
              "        fill: #FFFFFF;\n",
              "      }\n",
              "    </style>\n",
              "    <button class=\"colab-df-generate\" onclick=\"generateWithVariable('data')\"\n",
              "            title=\"Generate code using this dataframe.\"\n",
              "            style=\"display:none;\">\n",
              "\n",
              "  <svg xmlns=\"http://www.w3.org/2000/svg\" height=\"24px\"viewBox=\"0 0 24 24\"\n",
              "       width=\"24px\">\n",
              "    <path d=\"M7,19H8.4L18.45,9,17,7.55,7,17.6ZM5,21V16.75L18.45,3.32a2,2,0,0,1,2.83,0l1.4,1.43a1.91,1.91,0,0,1,.58,1.4,1.91,1.91,0,0,1-.58,1.4L9.25,21ZM18.45,9,17,7.55Zm-12,3A5.31,5.31,0,0,0,4.9,8.1,5.31,5.31,0,0,0,1,6.5,5.31,5.31,0,0,0,4.9,4.9,5.31,5.31,0,0,0,6.5,1,5.31,5.31,0,0,0,8.1,4.9,5.31,5.31,0,0,0,12,6.5,5.46,5.46,0,0,0,6.5,12Z\"/>\n",
              "  </svg>\n",
              "    </button>\n",
              "    <script>\n",
              "      (() => {\n",
              "      const buttonEl =\n",
              "        document.querySelector('#id_9455850a-71c2-4c92-bf7f-dcffdc757558 button.colab-df-generate');\n",
              "      buttonEl.style.display =\n",
              "        google.colab.kernel.accessAllowed ? 'block' : 'none';\n",
              "\n",
              "      buttonEl.onclick = () => {\n",
              "        google.colab.notebook.generateWithVariable('data');\n",
              "      }\n",
              "      })();\n",
              "    </script>\n",
              "  </div>\n",
              "\n",
              "    </div>\n",
              "  </div>\n"
            ],
            "application/vnd.google.colaboratory.intrinsic+json": {
              "type": "dataframe",
              "variable_name": "data",
              "summary": "{\n  \"name\": \"data\",\n  \"rows\": 560,\n  \"fields\": [\n    {\n      \"column\": \"Date\",\n      \"properties\": {\n        \"dtype\": \"date\",\n        \"min\": \"2022-01-03 00:00:00\",\n        \"max\": \"2024-04-09 00:00:00\",\n        \"num_unique_values\": 560,\n        \"samples\": [\n          \"2023-11-01 00:00:00\",\n          \"2023-05-22 00:00:00\",\n          \"2022-09-20 00:00:00\"\n        ],\n        \"semantic_type\": \"\",\n        \"description\": \"\"\n      }\n    },\n    {\n      \"column\": \"Open\",\n      \"properties\": {\n        \"dtype\": \"number\",\n        \"std\": 165.3328093293694,\n        \"min\": 380.25,\n        \"max\": 1034.75,\n        \"num_unique_values\": 486,\n        \"samples\": [\n          755.0,\n          459.3500061035156,\n          820.0\n        ],\n        \"semantic_type\": \"\",\n        \"description\": \"\"\n      }\n    },\n    {\n      \"column\": \"High\",\n      \"properties\": {\n        \"dtype\": \"number\",\n        \"std\": 167.0140795281676,\n        \"min\": 384.6499938964844,\n        \"max\": 1065.5999755859375,\n        \"num_unique_values\": 524,\n        \"samples\": [\n          520.5,\n          717.25,\n          507.8999938964844\n        ],\n        \"semantic_type\": \"\",\n        \"description\": \"\"\n      }\n    },\n    {\n      \"column\": \"Low\",\n      \"properties\": {\n        \"dtype\": \"number\",\n        \"std\": 163.57930584178516,\n        \"min\": 366.20001220703125,\n        \"max\": 1021.0,\n        \"num_unique_values\": 522,\n        \"samples\": [\n          697.0,\n          707.5,\n          498.1499938964844\n        ],\n        \"semantic_type\": \"\",\n        \"description\": \"\"\n      }\n    },\n    {\n      \"column\": \"Close\",\n      \"properties\": {\n        \"dtype\": \"number\",\n        \"std\": 165.31044681558282,\n        \"min\": 372.29998779296875,\n        \"max\": 1039.300048828125,\n        \"num_unique_values\": 535,\n        \"samples\": [\n          411.79998779296875,\n          454.8999938964844,\n          465.04998779296875\n        ],\n        \"semantic_type\": \"\",\n        \"description\": \"\"\n      }\n    },\n    {\n      \"column\": \"Adj Close\",\n      \"properties\": {\n        \"dtype\": \"number\",\n        \"std\": 165.81238371345623,\n        \"min\": 371.14324951171875,\n        \"max\": 1039.300048828125,\n        \"num_unique_values\": 536,\n        \"samples\": [\n          410.5205078125,\n          453.4866027832031,\n          463.6050720214844\n        ],\n        \"semantic_type\": \"\",\n        \"description\": \"\"\n      }\n    },\n    {\n      \"column\": \"Volume\",\n      \"properties\": {\n        \"dtype\": \"number\",\n        \"std\": 9438095,\n        \"min\": 2871205,\n        \"max\": 71425747,\n        \"num_unique_values\": 560,\n        \"samples\": [\n          8785264,\n          9978339,\n          17557661\n        ],\n        \"semantic_type\": \"\",\n        \"description\": \"\"\n      }\n    }\n  ]\n}"
            }
          },
          "metadata": {},
          "execution_count": 9
        }
      ],
      "source": [
        "data"
      ]
    },
    {
      "cell_type": "code",
      "execution_count": null,
      "id": "V31Pbv7M09qy",
      "metadata": {
        "id": "V31Pbv7M09qy"
      },
      "outputs": [],
      "source": [
        "# prompt: GET THIS ALL DATA IN csv file\n",
        "\n",
        "data.to_csv('stock_data5.csv')\n"
      ]
    },
    {
      "cell_type": "code",
      "execution_count": null,
      "id": "8a478e83-6aee-4809-9405-be6f8b65b16a",
      "metadata": {
        "id": "8a478e83-6aee-4809-9405-be6f8b65b16a"
      },
      "outputs": [],
      "source": [
        "ma_100_days = data.Close.rolling(100).mean()"
      ]
    },
    {
      "cell_type": "code",
      "execution_count": null,
      "id": "fc840124-ef3e-40b0-9e74-aa5a174c4c50",
      "metadata": {
        "colab": {
          "base_uri": "https://localhost:8080/",
          "height": 522
        },
        "id": "fc840124-ef3e-40b0-9e74-aa5a174c4c50",
        "outputId": "84f7fabc-aeb1-4c46-abd9-64526bd13f16"
      },
      "outputs": [
        {
          "data": {
            "image/png": "[encoded data removed]",
            "text/plain": [
              "<Figure size 800x600 with 1 Axes>"
            ]
          },
          "metadata": {},
          "output_type": "display_data"
        }
      ],
      "source": [
        "plt.figure(figsize=(8,6))\n",
        "plt.plot(ma_100_days, 'r')\n",
        "plt.plot(data.Close, 'g')\n",
        "# plt.plot(data.High, 'b')\n",
        "plt.show()"
      ]
    },
    {
      "cell_type": "code",
      "execution_count": null,
      "id": "1158c05f-1a2c-41f8-8add-85720074cdcd",
      "metadata": {
        "id": "1158c05f-1a2c-41f8-8add-85720074cdcd"
      },
      "outputs": [],
      "source": [
        "ma_200_days = data.Close.rolling(200).mean()"
      ]
    },
    {
      "cell_type": "code",
      "execution_count": null,
      "id": "97a1b79b-2302-43d7-883a-a0a255c864bf",
      "metadata": {
        "colab": {
          "base_uri": "https://localhost:8080/",
          "height": 522
        },
        "id": "97a1b79b-2302-43d7-883a-a0a255c864bf",
        "outputId": "03567589-08fc-4cf4-d2fd-bdc3c6f5fa53"
      },
      "outputs": [
        {
          "data": {
            "image/png": "[encoded data removed]",
            "text/plain": [
              "<Figure size 800x600 with 1 Axes>"
            ]
          },
          "metadata": {},
          "output_type": "display_data"
        }
      ],
      "source": [
        "plt.figure(figsize=(8,6))\n",
        "plt.plot(ma_100_days, 'r')\n",
        "plt.plot(ma_200_days,'b')\n",
        "plt.plot(data.Close,'g')\n",
        "plt.show()"
      ]
    },
    {
      "cell_type": "code",
      "execution_count": null,
      "id": "0ac073de-1a30-487c-a1f8-c809cbba06db",
      "metadata": {
        "id": "0ac073de-1a30-487c-a1f8-c809cbba06db"
      },
      "outputs": [],
      "source": [
        "data.dropna(inplace=True)"
      ]
    },
    {
      "cell_type": "code",
      "execution_count": null,
      "id": "64246466-177b-46f9-b4eb-6ee5005bfd6b",
      "metadata": {
        "id": "64246466-177b-46f9-b4eb-6ee5005bfd6b"
      },
      "outputs": [],
      "source": [
        "data_train = pd.DataFrame(data.Close[0: int(len(data)*0.80)])\n",
        "data_test = pd.DataFrame(data.Close[int(len(data)*0.80): len(data)])"
      ]
    },
    {
      "cell_type": "code",
      "execution_count": null,
      "id": "0f4c0b4b-2b5e-4f62-bd84-47a86ed3da3e",
      "metadata": {
        "colab": {
          "base_uri": "https://localhost:8080/"
        },
        "id": "0f4c0b4b-2b5e-4f62-bd84-47a86ed3da3e",
        "outputId": "739dffdf-43f3-4a64-e9d9-dfdaa8cefca6"
      },
      "outputs": [
        {
          "data": {
            "text/plain": [
              "2816"
            ]
          },
          "execution_count": 13,
          "metadata": {},
          "output_type": "execute_result"
        }
      ],
      "source": [
        "data_train.shape[0]"
      ]
    },
    {
      "cell_type": "code",
      "execution_count": null,
      "id": "0a609554-633d-4edf-abc1-21bd874a3cd1",
      "metadata": {
        "colab": {
          "base_uri": "https://localhost:8080/"
        },
        "id": "0a609554-633d-4edf-abc1-21bd874a3cd1",
        "outputId": "ffed1f02-08f9-4bb1-fdc0-7828a722adf9"
      },
      "outputs": [
        {
          "data": {
            "text/plain": [
              "705"
            ]
          },
          "execution_count": 14,
          "metadata": {},
          "output_type": "execute_result"
        }
      ],
      "source": [
        "data_test.shape[0]"
      ]
    },
    {
      "cell_type": "code",
      "execution_count": null,
      "id": "d5144e93-eab7-479f-9fde-9bf8c5786dc6",
      "metadata": {
        "id": "d5144e93-eab7-479f-9fde-9bf8c5786dc6"
      },
      "outputs": [],
      "source": [
        "from sklearn.preprocessing import MinMaxScaler\n",
        "scaler = MinMaxScaler(feature_range=(0,1))"
      ]
    },
    {
      "cell_type": "code",
      "execution_count": null,
      "id": "4c2793bd-1def-45f7-8fd2-9115eed1c2c1",
      "metadata": {
        "id": "4c2793bd-1def-45f7-8fd2-9115eed1c2c1"
      },
      "outputs": [],
      "source": [
        "data_train_scale = scaler.fit_transform(data_train)"
      ]
    },
    {
      "cell_type": "code",
      "execution_count": null,
      "id": "d55d63c2-132a-40b5-9398-e576ceba14fd",
      "metadata": {
        "id": "d55d63c2-132a-40b5-9398-e576ceba14fd"
      },
      "outputs": [],
      "source": [
        "x = []\n",
        "y = []\n",
        "\n",
        "for i in range(100, data_train_scale.shape[0]):\n",
        "    x.append(data_train_scale[i-100:i])\n",
        "    y.append(data_train_scale[i,0])\n"
      ]
    },
    {
      "cell_type": "code",
      "execution_count": null,
      "id": "998369e6-f1ad-4cf5-af58-0aa5b7aa315c",
      "metadata": {
        "id": "998369e6-f1ad-4cf5-af58-0aa5b7aa315c"
      },
      "outputs": [],
      "source": [
        "x, y = np.array(x), np.array(y)"
      ]
    },
    {
      "cell_type": "code",
      "execution_count": null,
      "id": "3c9c6717-e792-4206-960f-0689203555ca",
      "metadata": {
        "id": "3c9c6717-e792-4206-960f-0689203555ca"
      },
      "outputs": [],
      "source": [
        "from keras.layers import Dense, Dropout, LSTM\n",
        "from keras.models import Sequential"
      ]
    },
    {
      "cell_type": "code",
      "execution_count": null,
      "id": "14867cd4-c1ed-4cf9-b339-245bfaec0852",
      "metadata": {
        "colab": {
          "base_uri": "https://localhost:8080/"
        },
        "id": "14867cd4-c1ed-4cf9-b339-245bfaec0852",
        "outputId": "9293f6d5-641d-4dd8-afa3-d6e12327a648"
      },
      "outputs": [
        {
          "name": "stderr",
          "output_type": "stream",
          "text": [
            "WARNING:tensorflow:Layer lstm will not use cuDNN kernels since it doesn't meet the criteria. It will use a generic GPU kernel as fallback when running on GPU.\n",
            "WARNING:tensorflow:Layer lstm_1 will not use cuDNN kernels since it doesn't meet the criteria. It will use a generic GPU kernel as fallback when running on GPU.\n",
            "WARNING:tensorflow:Layer lstm_2 will not use cuDNN kernels since it doesn't meet the criteria. It will use a generic GPU kernel as fallback when running on GPU.\n",
            "WARNING:tensorflow:Layer lstm_3 will not use cuDNN kernels since it doesn't meet the criteria. It will use a generic GPU kernel as fallback when running on GPU.\n"
          ]
        }
      ],
      "source": [
        "model = Sequential()\n",
        "model.add(LSTM(units = 50, activation = 'relu', return_sequences = True,\n",
        "               input_shape = ((x.shape[1],1))))\n",
        "model.add(Dropout(0.2))\n",
        "\n",
        "model.add(LSTM(units = 60, activation='relu', return_sequences = True))\n",
        "model.add(Dropout(0.3))\n",
        "\n",
        "model.add(LSTM(units = 80, activation = 'relu', return_sequences = True))\n",
        "model.add(Dropout(0.4))\n",
        "\n",
        "model.add(LSTM(units = 120, activation = 'relu'))\n",
        "model.add(Dropout(0.5))\n",
        "\n",
        "model.add(Dense(units =1))"
      ]
    },
    {
      "cell_type": "code",
      "execution_count": null,
      "id": "c69edcc2-b11d-4702-8a6c-f6a6e677e79a",
      "metadata": {
        "id": "c69edcc2-b11d-4702-8a6c-f6a6e677e79a"
      },
      "outputs": [],
      "source": [
        "model.compile(optimizer = 'adam', loss = 'mean_squared_error')"
      ]
    },
    {
      "cell_type": "code",
      "execution_count": null,
      "id": "f36e439a-0106-4108-9630-7cdd7e5428e4",
      "metadata": {
        "colab": {
          "background_save": true,
          "base_uri": "https://localhost:8080/"
        },
        "id": "f36e439a-0106-4108-9630-7cdd7e5428e4",
        "outputId": "0025a1b3-d345-42bc-da0b-e8a42e42ee33"
      },
      "outputs": [
        {
          "name": "stdout",
          "output_type": "stream",
          "text": [
            "Epoch 1/10\n",
            "85/85 [==============================] - 40s 470ms/step - loss: 0.0081\n",
            "Epoch 2/10\n",
            "85/85 [==============================] - 40s 473ms/step - loss: 0.0070\n",
            "Epoch 3/10\n",
            "85/85 [==============================] - 41s 482ms/step - loss: 0.0069\n",
            "Epoch 4/10\n",
            "85/85 [==============================] - 40s 476ms/step - loss: 0.0063\n",
            "Epoch 5/10\n",
            "85/85 [==============================] - 40s 470ms/step - loss: 0.0057\n",
            "Epoch 6/10\n",
            "85/85 [==============================] - 41s 482ms/step - loss: 0.0059\n",
            "Epoch 7/10\n",
            "85/85 [==============================] - 40s 473ms/step - loss: 0.0051\n",
            "Epoch 8/10\n",
            "85/85 [==============================] - 40s 468ms/step - loss: 0.0052\n",
            "Epoch 9/10\n",
            "85/85 [==============================] - 40s 475ms/step - loss: 0.0055\n",
            "Epoch 10/10\n",
            "85/85 [==============================] - 40s 465ms/step - loss: 0.0048\n"
          ]
        },
        {
          "data": {
            "text/plain": [
              "<keras.src.callbacks.History at 0x7ef1e532d5d0>"
            ]
          },
          "execution_count": 23,
          "metadata": {},
          "output_type": "execute_result"
        }
      ],
      "source": [
        "model.fit(x,y, epochs = 10, batch_size =32, verbose =1)"
      ]
    },
    {
      "cell_type": "code",
      "execution_count": null,
      "id": "62f9decd-83a6-4c03-8963-dc3298b2a104",
      "metadata": {
        "id": "62f9decd-83a6-4c03-8963-dc3298b2a104"
      },
      "outputs": [],
      "source": [
        "model.summary()"
      ]
    },
    {
      "cell_type": "code",
      "execution_count": null,
      "id": "89cf9dc7-4e14-4c80-82bc-d6dcac8c98a2",
      "metadata": {
        "id": "89cf9dc7-4e14-4c80-82bc-d6dcac8c98a2"
      },
      "outputs": [],
      "source": [
        "pas_100_days = data_train.tail(100)"
      ]
    },
    {
      "cell_type": "code",
      "execution_count": null,
      "id": "67ef7a1e-63cc-4874-9b61-634026572822",
      "metadata": {
        "id": "67ef7a1e-63cc-4874-9b61-634026572822"
      },
      "outputs": [],
      "source": [
        "data_test = pd.concat([pas_100_days, data_test], ignore_index=True)"
      ]
    },
    {
      "cell_type": "code",
      "execution_count": null,
      "id": "7a0512e4-0eaf-4137-b61d-8bb0e48ca041",
      "metadata": {
        "id": "7a0512e4-0eaf-4137-b61d-8bb0e48ca041"
      },
      "outputs": [],
      "source": [
        "data_test_scale  =  scaler.fit_transform(data_test)"
      ]
    },
    {
      "cell_type": "code",
      "execution_count": null,
      "id": "536de9d0-2cc7-41dd-b500-affd3e3fec9d",
      "metadata": {
        "id": "536de9d0-2cc7-41dd-b500-affd3e3fec9d"
      },
      "outputs": [],
      "source": [
        "x = []\n",
        "y = []\n",
        "\n",
        "for i in range(100, data_test_scale.shape[0]):\n",
        "    x.append(data_test_scale[i-100:i])\n",
        "    y.append(data_test_scale[i,0])\n",
        "x, y = np.array(x), np.array(y)"
      ]
    },
    {
      "cell_type": "code",
      "execution_count": null,
      "id": "4602f57f-8832-4bf6-a50e-bb5164ff7872",
      "metadata": {
        "id": "4602f57f-8832-4bf6-a50e-bb5164ff7872"
      },
      "outputs": [],
      "source": [
        "y_predict = model.predict(x)"
      ]
    },
    {
      "cell_type": "code",
      "execution_count": null,
      "id": "ca2d2d64-b69a-4eb3-b4f6-5356bfb5b74a",
      "metadata": {
        "id": "ca2d2d64-b69a-4eb3-b4f6-5356bfb5b74a"
      },
      "outputs": [],
      "source": [
        "scale =1/scaler.scale_"
      ]
    },
    {
      "cell_type": "code",
      "execution_count": null,
      "id": "b3e3794a-785d-4ac8-96a3-70fab6259f1c",
      "metadata": {
        "id": "b3e3794a-785d-4ac8-96a3-70fab6259f1c"
      },
      "outputs": [],
      "source": [
        "y_predict = y_predict*scale"
      ]
    },
    {
      "cell_type": "code",
      "execution_count": null,
      "id": "5acb458b-7488-4860-9ccd-8999d67510f7",
      "metadata": {
        "id": "5acb458b-7488-4860-9ccd-8999d67510f7"
      },
      "outputs": [],
      "source": [
        "y = y*scale"
      ]
    },
    {
      "cell_type": "code",
      "execution_count": null,
      "id": "6ab280be-9494-4ea1-baf2-45fc38130366",
      "metadata": {
        "colab": {
          "base_uri": "https://localhost:8080/",
          "height": 696
        },
        "id": "6ab280be-9494-4ea1-baf2-45fc38130366",
        "outputId": "6dc82ebc-ad8f-46df-94bb-c1267f544a94"
      },
      "outputs": [
        {
          "data": {
            "image/png": "[encoded data removed]",
            "text/plain": [
              "<Figure size 1000x800 with 1 Axes>"
            ]
          },
          "metadata": {},
          "output_type": "display_data"
        }
      ],
      "source": [
        "plt.figure(figsize=(10,8))\n",
        "plt.plot(y_predict, 'r', label = 'Predicted Price')\n",
        "plt.plot(y, 'g', label = 'Original Price')\n",
        "plt.xlabel('Time')\n",
        "plt.ylabel('Price')\n",
        "plt.legend()\n",
        "plt.show()"
      ]
    },
    {
      "cell_type": "code",
      "execution_count": null,
      "id": "22143940-722e-4c05-8b46-d2f7d9abb882",
      "metadata": {
        "id": "22143940-722e-4c05-8b46-d2f7d9abb882"
      },
      "outputs": [],
      "source": [
        "model.save('Stock Predictions Model.keras')"
      ]
    },
    {
      "cell_type": "code",
      "execution_count": null,
      "id": "3Dofe0sC6i5L",
      "metadata": {
        "id": "3Dofe0sC6i5L"
      },
      "outputs": [],
      "source": [
        "# prompt: get this Processed  output in CSV file\n",
        "\n",
        "import pandas as pd\n",
        "y_predict_df = pd.DataFrame(y_predict)\n",
        "y_predict_df.to_csv('stock_predictions.csv')\n"
      ]
    },
    {
      "cell_type": "code",
      "execution_count": null,
      "id": "bd3bc001-da88-44ba-85d1-9b72ebfde3a6",
      "metadata": {
        "colab": {
          "base_uri": "https://localhost:8080/",
          "height": 383
        },
        "id": "bd3bc001-da88-44ba-85d1-9b72ebfde3a6",
        "outputId": "27bbe8db-cd9a-4c87-84f4-a9beba5bc732"
      },
      "outputs": [
        {
          "ename": "ModuleNotFoundError",
          "evalue": "No module named 'streamlit'",
          "output_type": "error",
          "traceback": [
            "\u001b[0;31m---------------------------------------------------------------------------\u001b[0m",
            "\u001b[0;31mModuleNotFoundError\u001b[0m                       Traceback (most recent call last)",
            "\u001b[0;32m<ipython-input-32-cdaaced17055>\u001b[0m in \u001b[0;36m<cell line: 5>\u001b[0;34m()\u001b[0m\n\u001b[1;32m      3\u001b[0m \u001b[0;32mimport\u001b[0m \u001b[0myfinance\u001b[0m \u001b[0;32mas\u001b[0m \u001b[0myf\u001b[0m\u001b[0;34m\u001b[0m\u001b[0;34m\u001b[0m\u001b[0m\n\u001b[1;32m      4\u001b[0m \u001b[0;32mfrom\u001b[0m \u001b[0mkeras\u001b[0m\u001b[0;34m.\u001b[0m\u001b[0mmodels\u001b[0m \u001b[0;32mimport\u001b[0m \u001b[0mload_model\u001b[0m\u001b[0;34m\u001b[0m\u001b[0;34m\u001b[0m\u001b[0m\n\u001b[0;32m----> 5\u001b[0;31m \u001b[0;32mimport\u001b[0m \u001b[0mstreamlit\u001b[0m \u001b[0;32mas\u001b[0m \u001b[0mst\u001b[0m\u001b[0;34m\u001b[0m\u001b[0;34m\u001b[0m\u001b[0m\n\u001b[0m\u001b[1;32m      6\u001b[0m \u001b[0;32mimport\u001b[0m \u001b[0mmatplotlib\u001b[0m\u001b[0;34m.\u001b[0m\u001b[0mpyplot\u001b[0m \u001b[0;32mas\u001b[0m \u001b[0mplt\u001b[0m\u001b[0;34m\u001b[0m\u001b[0;34m\u001b[0m\u001b[0m\n\u001b[1;32m      7\u001b[0m \u001b[0;34m\u001b[0m\u001b[0m\n",
            "\u001b[0;31mModuleNotFoundError\u001b[0m: No module named 'streamlit'",
            "",
            "\u001b[0;31m---------------------------------------------------------------------------\u001b[0;32m\nNOTE: If your import is failing due to a missing package, you can\nmanually install dependencies using either !pip or !apt.\n\nTo view examples of installing some common dependencies, click the\n\"Open Examples\" button below.\n\u001b[0;31m---------------------------------------------------------------------------\u001b[0m\n"
          ]
        }
      ],
      "source": [
        "# import numpy as np\n",
        "# import pandas as pd\n",
        "# import yfinance as yf\n",
        "# from keras.models import load_model\n",
        "# import streamlit as st\n",
        "# import matplotlib.pyplot as plt\n",
        "\n",
        "# model = load_model(\"Stock Predictions Model.keras\")\n",
        "\n",
        "# st.header('Stock Market Predictor')\n",
        "\n",
        "# stock =st.text_input('Enter Stock Symnbol', 'GOOG')\n",
        "# start = '2012-01-01'\n",
        "# end = '2022-12-31'\n",
        "\n",
        "# data = yf.download(stock, start ,end)\n",
        "\n",
        "# st.subheader('Stock Data')\n",
        "# st.write(data)\n",
        "\n",
        "# data_train = pd.DataFrame(data.Close[0: int(len(data)*0.80)])\n",
        "# data_test = pd.DataFrame(data.Close[int(len(data)*0.80): len(data)])\n",
        "\n",
        "# from sklearn.preprocessing import MinMaxScaler\n",
        "# scaler = MinMaxScaler(feature_range=(0,1))\n",
        "\n",
        "# pas_100_days = data_train.tail(100)\n",
        "# data_test = pd.concat([pas_100_days, data_test], ignore_index=True)\n",
        "# data_test_scale = scaler.fit_transform(data_test)\n",
        "\n",
        "# st.subheader('Price vs MA50')\n",
        "# ma_50_days = data.Close.rolling(50).mean()\n",
        "# fig1 = plt.figure(figsize=(8,6))\n",
        "# plt.plot(ma_50_days, 'r')\n",
        "# plt.plot(data.Close, 'g')\n",
        "# plt.show()\n",
        "# st.pyplot(fig1)\n",
        "\n",
        "# st.subheader('Price vs MA50 vs MA100')\n",
        "# ma_100_days = data.Close.rolling(100).mean()\n",
        "# fig2 = plt.figure(figsize=(8,6))\n",
        "# plt.plot(ma_50_days, 'r')\n",
        "# plt.plot(ma_100_days, 'b')\n",
        "# plt.plot(data.Close, 'g')\n",
        "# plt.show()\n",
        "# st.pyplot(fig2)\n",
        "\n",
        "# st.subheader('Price vs MA100 vs MA200')\n",
        "# ma_200_days = data.Close.rolling(200).mean()\n",
        "# fig3 = plt.figure(figsize=(8,6))\n",
        "# plt.plot(ma_100_days, 'r')\n",
        "# plt.plot(ma_200_days, 'b')\n",
        "# plt.plot(data.Close, 'g')\n",
        "# plt.show()\n",
        "# st.pyplot(fig3)\n",
        "\n",
        "# x = []\n",
        "# y = []\n",
        "\n",
        "# for i in range(100, data_test_scale.shape[0]):\n",
        "#     x.append(data_test_scale[i-100:i])\n",
        "#     y.append(data_test_scale[i,0])\n",
        "\n",
        "# x,y = np.array(x), np.array(y)\n",
        "\n",
        "# predict = model.predict(x)\n",
        "\n",
        "# scale = 1/scaler.scale_\n",
        "\n",
        "# predict = predict * scale\n",
        "# y = y * scale\n",
        "\n",
        "# st.subheader('Original Price vs Predicted Price')\n",
        "# fig4 = plt.figure(figsize=(8,6))\n",
        "# plt.plot(predict, 'r', label='Original Price')\n",
        "# plt.plot(y, 'g', label = 'Predicted Price')\n",
        "# plt.xlabel('Time')\n",
        "# plt.ylabel('Price')\n",
        "# plt.show()\n",
        "# st.pyplot(fig4)"
      ]
    },
    {
      "cell_type": "code",
      "execution_count": null,
      "id": "fTUZq6EhfD75",
      "metadata": {
        "id": "fTUZq6EhfD75"
      },
      "outputs": [],
      "source": [
        "# !pip install streamlit\n",
        "\n",
        "# import numpy as np\n",
        "# import pandas as pd\n",
        "# import yfinance as yf\n",
        "# from keras.models import load_model\n",
        "# import streamlit as st\n",
        "# import matplotlib.pyplot as plt\n",
        "\n",
        "# model = load_model(\"Stock Predictions Model.keras\")\n",
        "\n",
        "# st.header('Stock Market Predictor')\n",
        "\n",
        "# stock = st.text_input('Enter Stock Symbol', 'GOOG')\n",
        "\n",
        "# start = '2012-01-01'\n",
        "# end = '2022-12-31'\n",
        "\n",
        "# data = yf.download(stock, start, end)\n",
        "\n",
        "# st.subheader('Stock Data')\n",
        "# st.write(data)\n",
        "\n",
        "# # Prepare the data for training and testing\n",
        "# data_train = pd.DataFrame(data.Close[0: int(len(data)*0.80)])\n",
        "# data_test = pd.DataFrame(data.Close[int(len(data)*0.80): len(data)])\n",
        "\n",
        "# # Scale the data\n",
        "# from sklearn.preprocessing import MinMaxScaler\n",
        "# scaler = MinMaxScaler(feature_range=(0,1))\n",
        "\n",
        "# # Create a dataset with 100 previous days' data\n",
        "# pas_100_days = data_train.tail(100)\n",
        "# data_test = pd.concat([pas_100_days, data_test], ignore_index=True)\n",
        "# data_test_scale = scaler.fit_transform(data_test)\n",
        "\n",
        "# # Plot the price vs MA50\n",
        "# st.subheader('Price vs MA50')\n",
        "# ma_50_days = data.Close.rolling(50).mean()\n",
        "# fig1 = plt.figure(figsize=(8,6))\n",
        "# plt.plot(ma_50_days, 'r')\n",
        "# plt.plot(data.Close, 'g')\n",
        "# plt.show()\n",
        "# st.pyplot(fig1)\n",
        "\n",
        "# # Plot the price vs MA50 vs MA100\n",
        "# st.subheader('Price vs MA50 vs MA100')\n",
        "# ma_100_days = data.Close.rolling(100).mean()\n",
        "# fig2 = plt.figure"
      ]
    },
    {
      "cell_type": "code",
      "execution_count": null,
      "id": "4nHVI415e8B9",
      "metadata": {
        "id": "4nHVI415e8B9"
      },
      "outputs": [],
      "source": [
        "!streamlit run /usr/local/lib/python3.10/dist-packages/colab_kernel_launcher.py"
      ]
    },
    {
      "cell_type": "code",
      "execution_count": null,
      "id": "uLZ3UkKEhVnQ",
      "metadata": {
        "id": "uLZ3UkKEhVnQ"
      },
      "outputs": [],
      "source": [
        "from google.colab import drive\n",
        "drive.mount('/content/drive')"
      ]
    },
    {
      "cell_type": "code",
      "execution_count": null,
      "id": "0suPHk2afTcK",
      "metadata": {
        "id": "0suPHk2afTcK"
      },
      "outputs": [],
      "source": [
        "# bidirectional lstm\n",
        "# deep lstm"
      ]
    },
    {
      "cell_type": "code",
      "execution_count": null,
      "id": "hOnpsW2ZczCv",
      "metadata": {
        "id": "hOnpsW2ZczCv"
      },
      "outputs": [],
      "source": [
        "pip install ccxt\n"
      ]
    },
    {
      "cell_type": "code",
      "execution_count": null,
      "id": "sYkviwC-cmkh",
      "metadata": {
        "id": "sYkviwC-cmkh"
      },
      "outputs": [],
      "source": [
        "import ccxt\n",
        "import pandas as pd\n",
        "\n",
        "# Initialize the Binance exchange\n",
        "binance = ccxt.binance()\n",
        "\n",
        "# Fetch historical OHLCV (Open, High, Low, Close, Volume) data for Bitcoin (BTC/USDT) pair\n",
        "# ohlcv = binance.fetch_ohlcv('BTC/USDT', timeframe='1d', limit=100)\n",
        "binance_us = ccxt.binanceus()\n",
        "ohlcv = binance_us.fetch_ohlcv('BTC/USDT', timeframe='1d', limit=100)\n",
        "\n",
        "# Convert the OHLCV data to a DataFrame\n",
        "df = pd.DataFrame(ohlcv, columns=['timestamp', 'open', 'high', 'low', 'close', 'volume'])\n",
        "\n",
        "# Convert timestamp to datetime format\n",
        "df['timestamp'] = pd.to_datetime(df['timestamp'], unit='ms')\n",
        "\n",
        "# Print the DataFrame\n",
        "print(df)\n"
      ]
    },
    {
      "cell_type": "code",
      "execution_count": null,
      "id": "B9f9rqJAcnNj",
      "metadata": {
        "id": "B9f9rqJAcnNj"
      },
      "outputs": [],
      "source": [
        "# pd.DataFrame(ohlcv)"
      ]
    },
    {
      "cell_type": "code",
      "execution_count": null,
      "id": "x69OKSRPeNjI",
      "metadata": {
        "id": "x69OKSRPeNjI"
      },
      "outputs": [],
      "source": [
        "# ma_100_days = ohlcv.Close.rolling(100).mean() run this code and plt.figure(figsize=(8,6))\n",
        "# plt.plot(ma_100_days, 'r')\n",
        "# plt.plot(data.Close, 'g')\n",
        "# plt.show() and display\n",
        "\n",
        "import pandas as pd\n",
        "import matplotlib.pyplot as plt\n",
        "ohlcv = pd.DataFrame(ohlcv, columns=['timestamp', 'open', 'high', 'low', 'close', 'volume'])\n",
        "ohlcv['timestamp'] = pd.to_datetime(ohlcv['timestamp'], unit='ms')\n",
        "ma_100_days = df.close.rolling(10).mean()\n",
        "plt.figure(figsize=(8,6))\n",
        "plt.plot(ma_100_days, 'r')\n",
        "plt.plot(ohlcv.close, 'g')\n",
        "plt.show()\n"
      ]
    },
    {
      "cell_type": "code",
      "execution_count": null,
      "id": "vgXp52XPvoVd",
      "metadata": {
        "id": "vgXp52XPvoVd"
      },
      "outputs": [],
      "source": [
        "\n",
        "# Create a sample DataFrame with a \"Close\" column\n",
        "\n",
        "ohlcv = pd.DataFrame(data)\n",
        "\n",
        "# Calculate the 100-day moving average of the closing prices\n",
        "ma_100_days = ohlcv['close'].rolling(100).mean()\n",
        "\n",
        "# Plot the moving average and the closing prices\n",
        "plt.figure(figsize=(8, 6))\n",
        "plt.plot(ma_100_days, 'r', label='Moving Average')\n",
        "plt.plot(ohlcv['close'], 'g', label='Closing Price')\n",
        "plt.legend()\n",
        "plt.show()\n",
        "# !curl -I https://api.binance.com/api/v3/exchangeInfo"
      ]
    },
    {
      "cell_type": "code",
      "execution_count": null,
      "id": "lNok6cRoxXjt",
      "metadata": {
        "id": "lNok6cRoxXjt"
      },
      "outputs": [],
      "source": []
    }
  ],
  "metadata": {
    "accelerator": "GPU",
    "colab": {
      "gpuType": "T4",
      "provenance": []
    },
    "kernelspec": {
      "display_name": "Python 3",
      "name": "python3"
    },
    "language_info": {
      "codemirror_mode": {
        "name": "ipython",
        "version": 3
      },
      "file_extension": ".py",
      "mimetype": "text/x-python",
      "name": "python",
      "nbconvert_exporter": "python",
      "pygments_lexer": "ipython3",
      "version": "3.11.6"
    }
  },
  "nbformat": 4,
  "nbformat_minor": 5
}