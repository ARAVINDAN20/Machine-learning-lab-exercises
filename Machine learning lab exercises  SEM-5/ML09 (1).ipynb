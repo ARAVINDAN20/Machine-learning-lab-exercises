{
  "nbformat": 4,
  "nbformat_minor": 0,
  "metadata": {
    "colab": {
      "provenance": []
    },
    "kernelspec": {
      "name": "python3",
      "display_name": "Python 3"
    },
    "language_info": {
      "name": "python"
    }
  },
  "cells": [
    {
      "cell_type": "code",
      "source": [
        "import pandas as pd\n",
        "from mlxtend.frequent_patterns import apriori, association_rules\n",
        "\n",
        "# Step 1: Load the dataset\n",
        "data = pd.read_csv('/content/customer_segmentation.csv')\n",
        "\n",
        "# Step 2: Convert spending columns to boolean (True if spent > 0, otherwise False)\n",
        "# Here, each column related to product spending will be treated as an item in the transaction\n",
        "items = ['MntWines', 'MntFruits', 'MntMeatProducts', 'MntFishProducts', 'MntSweetProducts', 'MntGoldProds']\n",
        "data[items] = data[items].apply(lambda x: x > 0)  # Converts directly to boolean (True/False)\n",
        "\n",
        "# Step 3: Use only the boolean columns for the apriori algorithm\n",
        "df = data[items]\n",
        "\n",
        "# Step 4: Generate frequent itemsets with a minimum support of 8%\n",
        "frequent_itemsets = apriori(df, min_support=0.08, use_colnames=True)\n",
        "\n",
        "# Display the candidate set and frequency set for each iteration\n",
        "print(\"Frequent Itemsets (Candidate and Frequency Set):\")\n",
        "print(frequent_itemsets)\n",
        "\n",
        "# Step 5: Generate association rules with a minimum confidence of 50%\n",
        "rules = association_rules(frequent_itemsets, metric=\"confidence\", min_threshold=0.5)\n",
        "\n",
        "# Display the association rules\n",
        "print(\"\\nAssociation Rules:\")\n",
        "print(rules[['antecedents', 'consequents', 'support', 'confidence', 'lift']])\n",
        "\n",
        "# Step 6: Find rules with confidence greater than 50%\n",
        "high_confidence_rules = rules[rules['confidence'] > 0.5]\n",
        "\n",
        "# Display high confidence rules\n",
        "print(\"\\nHigh Confidence Rules (Confidence > 50%):\")\n",
        "print(high_confidence_rules[['antecedents', 'consequents', 'support', 'confidence', 'lift']])\n"
      ],
      "metadata": {
        "colab": {
          "base_uri": "https://localhost:8080/"
        },
        "id": "jpgFCGCZfo6_",
        "outputId": "430cc052-c12c-4767-c6b8-dd8f8f682174"
      },
      "execution_count": null,
      "outputs": [
        {
          "output_type": "stream",
          "name": "stdout",
          "text": [
            "Frequent Itemsets (Candidate and Frequency Set):\n",
            "     support                                           itemsets\n",
            "0   0.994196                                         (MntWines)\n",
            "1   0.821429                                        (MntFruits)\n",
            "2   0.999554                                  (MntMeatProducts)\n",
            "3   0.828571                                  (MntFishProducts)\n",
            "4   0.812946                                 (MntSweetProducts)\n",
            "..       ...                                                ...\n",
            "58  0.710268  (MntMeatProducts, MntFruits, MntGoldProds, Mnt...\n",
            "59  0.646875  (MntFruits, MntFishProducts, MntGoldProds, Mnt...\n",
            "60  0.714286  (MntMeatProducts, MntFishProducts, MntGoldProd...\n",
            "61  0.650000  (MntMeatProducts, MntFruits, MntFishProducts, ...\n",
            "62  0.646875  (MntMeatProducts, MntFruits, MntFishProducts, ...\n",
            "\n",
            "[63 rows x 2 columns]\n",
            "\n",
            "Association Rules:\n",
            "            antecedents                                        consequents  \\\n",
            "0           (MntFruits)                                         (MntWines)   \n",
            "1            (MntWines)                                        (MntFruits)   \n",
            "2     (MntMeatProducts)                                         (MntWines)   \n",
            "3            (MntWines)                                  (MntMeatProducts)   \n",
            "4     (MntFishProducts)                                         (MntWines)   \n",
            "..                  ...                                                ...   \n",
            "597         (MntFruits)  (MntMeatProducts, MntFishProducts, MntGoldProd...   \n",
            "598   (MntFishProducts)  (MntMeatProducts, MntFruits, MntGoldProds, Mnt...   \n",
            "599      (MntGoldProds)  (MntMeatProducts, MntFruits, MntFishProducts, ...   \n",
            "600          (MntWines)  (MntMeatProducts, MntFruits, MntFishProducts, ...   \n",
            "601  (MntSweetProducts)  (MntMeatProducts, MntFruits, MntFishProducts, ...   \n",
            "\n",
            "      support  confidence      lift  \n",
            "0    0.817857    0.995652  1.001464  \n",
            "1    0.817857    0.822631  1.001464  \n",
            "2    0.994196    0.994640  1.000447  \n",
            "3    0.994196    1.000000  1.000447  \n",
            "4    0.822768    0.992996  0.998792  \n",
            "..        ...         ...       ...  \n",
            "597  0.646875    0.787500  1.102500  \n",
            "598  0.646875    0.780711  1.099179  \n",
            "599  0.646875    0.664984  1.012620  \n",
            "600  0.646875    0.650651  1.001002  \n",
            "601  0.646875    0.795717  1.105710  \n",
            "\n",
            "[602 rows x 5 columns]\n",
            "\n",
            "High Confidence Rules (Confidence > 50%):\n",
            "            antecedents                                        consequents  \\\n",
            "0           (MntFruits)                                         (MntWines)   \n",
            "1            (MntWines)                                        (MntFruits)   \n",
            "2     (MntMeatProducts)                                         (MntWines)   \n",
            "3            (MntWines)                                  (MntMeatProducts)   \n",
            "4     (MntFishProducts)                                         (MntWines)   \n",
            "..                  ...                                                ...   \n",
            "597         (MntFruits)  (MntMeatProducts, MntFishProducts, MntGoldProd...   \n",
            "598   (MntFishProducts)  (MntMeatProducts, MntFruits, MntGoldProds, Mnt...   \n",
            "599      (MntGoldProds)  (MntMeatProducts, MntFruits, MntFishProducts, ...   \n",
            "600          (MntWines)  (MntMeatProducts, MntFruits, MntFishProducts, ...   \n",
            "601  (MntSweetProducts)  (MntMeatProducts, MntFruits, MntFishProducts, ...   \n",
            "\n",
            "      support  confidence      lift  \n",
            "0    0.817857    0.995652  1.001464  \n",
            "1    0.817857    0.822631  1.001464  \n",
            "2    0.994196    0.994640  1.000447  \n",
            "3    0.994196    1.000000  1.000447  \n",
            "4    0.822768    0.992996  0.998792  \n",
            "..        ...         ...       ...  \n",
            "597  0.646875    0.787500  1.102500  \n",
            "598  0.646875    0.780711  1.099179  \n",
            "599  0.646875    0.664984  1.012620  \n",
            "600  0.646875    0.650651  1.001002  \n",
            "601  0.646875    0.795717  1.105710  \n",
            "\n",
            "[602 rows x 5 columns]\n"
          ]
        },
        {
          "output_type": "stream",
          "name": "stderr",
          "text": [
            "/usr/local/lib/python3.10/dist-packages/ipykernel/ipkernel.py:283: DeprecationWarning: `should_run_async` will not call `transform_cell` automatically in the future. Please pass the result to `transformed_cell` argument and any exception that happen during thetransform in `preprocessing_exc_tuple` in IPython 7.17 and above.\n",
            "  and should_run_async(code)\n"
          ]
        }
      ]
    }
  ]
}