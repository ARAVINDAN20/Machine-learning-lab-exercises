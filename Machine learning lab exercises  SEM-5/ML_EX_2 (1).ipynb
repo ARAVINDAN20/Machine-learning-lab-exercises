{
  "nbformat": 4,
  "nbformat_minor": 0,
  "metadata": {
    "colab": {
      "provenance": []
    },
    "kernelspec": {
      "name": "python3",
      "display_name": "Python 3"
    },
    "language_info": {
      "name": "python"
    }
  },
  "cells": [
    {
      "cell_type": "markdown",
      "source": [
        "---\n",
        "\n",
        "## Ex. No: 2 FEATURE SELECTION AND FEATURE EXTRACTION\n",
        "\n",
        "###                      **REG_NO**:URK22AI1026\n",
        "\n",
        "**AIM:**  \n",
        "To implement feature selection and feature extraction techniques on a given dataset.\n",
        "\n",
        "**DESCRIPTION:**  \n",
        "\n",
        "**FEATURE SELECTION:**  \n",
        "Feature selection is the process of choosing a subset of relevant features from the original feature set. It helps reduce model complexity, improve computational efficiency, and minimize generalization error by removing irrelevant features.\n",
        "\n",
        "**Methods:**\n",
        "\n",
        "1. **Remove Unused Columns:** Eliminate columns that are not used for analysis.\n",
        "2. **Remove Column with Outlier:** Drop columns with significant outliers.\n",
        "3. **Remove Features with Missing Values:** Remove features that have too many missing values.\n",
        "4. **Remove Features with Low Variance:** Drop features with minimal variance as they add little information.\n",
        "5. **Remove Uncorrelated Features with Target:** Exclude features that do not correlate with the target variable.\n",
        "6. **Remove Highly Correlated Features (Multicollinearity):** Drop features that are highly correlated with each other to avoid redundancy.\n",
        "7. **Univariate Feature Selection:** Use statistical tests to select features that have the strongest relationship with the target variable. This can be done using `SelectKBest` from Scikit-learn.\n",
        "8. **Information Gain-based Feature Selection:** Calculate mutual information between features and the target to select the features with the highest information gain.\n",
        "\n",
        "**FEATURE EXTRACTION:**  \n",
        "Feature extraction involves transforming the original features into a new set of features that better represent the data, often leading to improved model performance.\n",
        "\n",
        "**Techniques:**\n",
        "\n",
        "1. **Principal Component Analysis (PCA):** PCA is a dimensionality reduction technique that identifies patterns in data, transforming it into a lower-dimensional space while retaining most of the variance.\n",
        "2. **Linear Discriminant Analysis (LDA):** Unlike PCA, LDA is a supervised technique that seeks to reduce dimensionality by maximizing the separation between different classes.\n",
        "\n",
        "**DATA REDUCTION:**  \n",
        "Data reduction involves techniques to reduce the volume of data while preserving its integrity. It includes dimensionality reduction, numerosity reduction, and data compression.\n",
        "\n",
        "**DIMENSIONALITY REDUCTION METHODS:**\n",
        "\n",
        "1. **Feature Selection Methods Using Correlation Coefficient Methods:**\n",
        "   - **Pearson Correlation Coefficient:** Measures the linear correlation between features.\n",
        "   - **Spearman Correlation Coefficient:** Assesses monotonic relationships.\n",
        "   - **Chi-Squared Test:** Evaluates the independence between categorical features.\n",
        "   - **Kendall Tau Test:** Measures correlation based on rank data.\n",
        "\n",
        "2. **Matrix Factorization:**\n",
        "   - **Principal Component Analysis (PCA):** Reduces dimensionality by preserving the direction of maximum variance.\n",
        "\n",
        "3. **Manifold Learning:**\n",
        "   - **t-SNE:** A technique to visualize high-dimensional data in lower dimensions, focusing on preserving local structure.\n",
        "\n",
        "4. **Auto Encoders:**\n",
        "   - Neural networks used to learn efficient codings of input data.\n",
        "\n",
        "**Steps for PCA:**\n",
        "\n",
        "1. **Standardize the Dataset:** Normalize the data to have zero mean and unit variance.\n",
        "2. **Compute Covariance Matrix:** Calculate the covariance matrix of the standardized data.\n",
        "3. **Find Eigenvalues and Eigenvectors:** Extract eigenvalues and eigenvectors from the covariance matrix.\n",
        "4. **Select Top Features:** Choose the top eigenvectors corresponding to the largest eigenvalues to form the principal components.\n",
        "\n",
        "---"
      ],
      "metadata": {
        "id": "oAqbT2YBWOD0"
      }
    },
    {
      "cell_type": "markdown",
      "source": [
        "1. **Read and Analyze the Data:**\n",
        "   - This step involves loading the dataset into a DataFrame and performing an initial inspection to understand its structure and contents. Key activities include checking the number of rows and columns, identifying data types, and summarizing basic statistics.\n"
      ],
      "metadata": {
        "id": "3Y-tp-boWprb"
      }
    },
    {
      "cell_type": "code",
      "source": [
        "import pandas as pd\n",
        "\n",
        "df = pd.read_csv('heart.csv')\n",
        "print(\"Dataset Overview:\")\n",
        "print(df.head())\n",
        "\n",
        "print(\"\\nDataset Description:\")\n",
        "print(df.describe())\n"
      ],
      "metadata": {
        "colab": {
          "base_uri": "https://localhost:8080/"
        },
        "id": "j_gLtf2UWW85",
        "outputId": "d6dc7489-72ac-499a-a7a5-1b80da263cb8"
      },
      "execution_count": null,
      "outputs": [
        {
          "output_type": "stream",
          "name": "stdout",
          "text": [
            "Dataset Overview:\n",
            "   age  sex  cp  trestbps  chol  fbs  restecg  thalach  exang  oldpeak  slope  \\\n",
            "0   63    1   3       145   233    1        0      150      0      2.3      0   \n",
            "1   37    1   2       130   250    0        1      187      0      3.5      0   \n",
            "2   41    0   1       130   204    0        0      172      0      1.4      2   \n",
            "3   56    1   1       120   236    0        1      178      0      0.8      2   \n",
            "4   57    0   0       120   354    0        1      163      1      0.6      2   \n",
            "\n",
            "   ca  thal  target  \n",
            "0   0     1       1  \n",
            "1   0     2       1  \n",
            "2   0     2       1  \n",
            "3   0     2       1  \n",
            "4   0     2       1  \n",
            "\n",
            "Dataset Description:\n",
            "              age         sex          cp    trestbps        chol         fbs  \\\n",
            "count  303.000000  303.000000  303.000000  303.000000  303.000000  303.000000   \n",
            "mean    54.366337    0.683168    0.966997  131.623762  246.264026    0.148515   \n",
            "std      9.082101    0.466011    1.032052   17.538143   51.830751    0.356198   \n",
            "min     29.000000    0.000000    0.000000   94.000000  126.000000    0.000000   \n",
            "25%     47.500000    0.000000    0.000000  120.000000  211.000000    0.000000   \n",
            "50%     55.000000    1.000000    1.000000  130.000000  240.000000    0.000000   \n",
            "75%     61.000000    1.000000    2.000000  140.000000  274.500000    0.000000   \n",
            "max     77.000000    1.000000    3.000000  200.000000  564.000000    1.000000   \n",
            "\n",
            "          restecg     thalach       exang     oldpeak       slope          ca  \\\n",
            "count  303.000000  303.000000  303.000000  303.000000  303.000000  303.000000   \n",
            "mean     0.528053  149.646865    0.326733    1.039604    1.399340    0.729373   \n",
            "std      0.525860   22.905161    0.469794    1.161075    0.616226    1.022606   \n",
            "min      0.000000   71.000000    0.000000    0.000000    0.000000    0.000000   \n",
            "25%      0.000000  133.500000    0.000000    0.000000    1.000000    0.000000   \n",
            "50%      1.000000  153.000000    0.000000    0.800000    1.000000    0.000000   \n",
            "75%      1.000000  166.000000    1.000000    1.600000    2.000000    1.000000   \n",
            "max      2.000000  202.000000    1.000000    6.200000    2.000000    4.000000   \n",
            "\n",
            "             thal      target  \n",
            "count  303.000000  303.000000  \n",
            "mean     2.313531    0.544554  \n",
            "std      0.612277    0.498835  \n",
            "min      0.000000    0.000000  \n",
            "25%      2.000000    0.000000  \n",
            "50%      2.000000    1.000000  \n",
            "75%      3.000000    1.000000  \n",
            "max      3.000000    1.000000  \n"
          ]
        }
      ]
    },
    {
      "cell_type": "markdown",
      "source": [
        "2. **Split the Dataset into Train and Test Sets:**\n",
        "   - Splitting the dataset into training and testing sets ensures that we have separate data for training the model and evaluating its performance. Typically, a common split ratio is 80/20 or 70/30, where the larger portion is used for training and the smaller portion for testing."
      ],
      "metadata": {
        "id": "Q8GCUZtzW5u6"
      }
    },
    {
      "cell_type": "code",
      "source": [
        "import pandas as pd\n",
        "from sklearn.model_selection import train_test_split\n",
        "\n",
        "df = pd.read_csv('heart.csv')\n",
        "\n",
        "X = df.drop('target', axis=1)\n",
        "y = df['target']\n",
        "\n",
        "X_train, X_test, y_train, y_test = train_test_split(X, y, test_size=0.2, random_state=42)\n",
        "\n",
        "print(\"Training set (X_train):\")\n",
        "print(X_train.head())\n",
        "\n",
        "print(\"\\nTraining set (y_train):\")\n",
        "print(y_train.head())\n",
        "\n",
        "print(\"\\nTesting set (X_test):\")\n",
        "print(X_test.head())\n",
        "\n",
        "print(\"\\nTesting set (y_test):\")\n",
        "print(y_test.head())\n"
      ],
      "metadata": {
        "colab": {
          "base_uri": "https://localhost:8080/"
        },
        "id": "qrNhF27kWsjg",
        "outputId": "8d2adb24-82bd-4e92-e2ba-8ce5aca3464f"
      },
      "execution_count": null,
      "outputs": [
        {
          "output_type": "stream",
          "name": "stdout",
          "text": [
            "Training set (X_train):\n",
            "     age  sex  cp  trestbps  chol  fbs  restecg  thalach  exang  oldpeak  \\\n",
            "132   42    1   1       120   295    0        1      162      0      0.0   \n",
            "202   58    1   0       150   270    0        0      111      1      0.8   \n",
            "196   46    1   2       150   231    0        1      147      0      3.6   \n",
            "75    55    0   1       135   250    0        0      161      0      1.4   \n",
            "176   60    1   0       117   230    1        1      160      1      1.4   \n",
            "\n",
            "     slope  ca  thal  \n",
            "132      2   0     2  \n",
            "202      2   0     3  \n",
            "196      1   0     2  \n",
            "75       1   0     2  \n",
            "176      2   2     3  \n",
            "\n",
            "Training set (y_train):\n",
            "132    1\n",
            "202    0\n",
            "196    0\n",
            "75     1\n",
            "176    0\n",
            "Name: target, dtype: int64\n",
            "\n",
            "Testing set (X_test):\n",
            "     age  sex  cp  trestbps  chol  fbs  restecg  thalach  exang  oldpeak  \\\n",
            "179   57    1   0       150   276    0        0      112      1      0.6   \n",
            "228   59    1   3       170   288    0        0      159      0      0.2   \n",
            "111   57    1   2       150   126    1        1      173      0      0.2   \n",
            "246   56    0   0       134   409    0        0      150      1      1.9   \n",
            "60    71    0   2       110   265    1        0      130      0      0.0   \n",
            "\n",
            "     slope  ca  thal  \n",
            "179      1   1     1  \n",
            "228      1   0     3  \n",
            "111      2   1     3  \n",
            "246      1   2     3  \n",
            "60       2   1     2  \n",
            "\n",
            "Testing set (y_test):\n",
            "179    0\n",
            "228    0\n",
            "111    1\n",
            "246    0\n",
            "60     1\n",
            "Name: target, dtype: int64\n"
          ]
        }
      ]
    },
    {
      "cell_type": "markdown",
      "source": [
        "3. **Check Shape of Training and Test Sets:**\n",
        "   - This involves verifying the dimensions of the training and testing sets to ensure they were split correctly. The shape of a dataset is given by the number of rows and columns, which helps confirm that the data has been partitioned as intended.\n"
      ],
      "metadata": {
        "id": "3YhAKjauXXIR"
      }
    },
    {
      "cell_type": "code",
      "source": [
        "print(f\"Training set shape: {X_train.shape}\")\n",
        "print(f\"Test set shape: {X_test.shape}\")"
      ],
      "metadata": {
        "colab": {
          "base_uri": "https://localhost:8080/"
        },
        "id": "Y2IM4Sstb6_j",
        "outputId": "4bef5c01-03fa-43d4-80cd-ec80655e18e3"
      },
      "execution_count": null,
      "outputs": [
        {
          "output_type": "stream",
          "name": "stdout",
          "text": [
            "Training set shape: (242, 13)\n",
            "Test set shape: (61, 13)\n"
          ]
        }
      ]
    },
    {
      "cell_type": "markdown",
      "source": [
        "\n",
        "4. **Perform Scaling in the Data Using Standard Scaler:**\n",
        "   - Scaling the data is crucial for many machine learning algorithms that are sensitive to the scale of input features. Standard scaling transforms the data to have a mean of 0 and a standard deviation of 1, ensuring all features contribute equally to the model."
      ],
      "metadata": {
        "id": "Xzsztt9pXl_h"
      }
    },
    {
      "cell_type": "code",
      "source": [
        "from sklearn.preprocessing import StandardScaler\n",
        "\n",
        "scaler = StandardScaler()\n",
        "X_train_scaled = scaler.fit_transform(X_train)\n",
        "X_test_scaled = scaler.transform(X_test)\n",
        "\n",
        "print(\"Scaled training set:\")\n",
        "print(X_train_scaled[:5])\n"
      ],
      "metadata": {
        "colab": {
          "base_uri": "https://localhost:8080/"
        },
        "id": "vjYtcyEiXMcW",
        "outputId": "e6ce27b4-3121-4e3e-aab7-a03b4d993aea"
      },
      "execution_count": null,
      "outputs": [
        {
          "output_type": "stream",
          "name": "stdout",
          "text": [
            "Scaled training set:\n",
            "[[-1.35679832  0.72250438  0.00809909 -0.61685555  0.91403366 -0.38330071\n",
            "   0.8431327   0.53278078 -0.67663234 -0.92086403  0.95390513 -0.68970073\n",
            "  -0.50904773]\n",
            " [ 0.38508599  0.72250438 -0.97189094  1.1694912   0.43952674 -0.38330071\n",
            "  -1.04610909 -1.75358236  1.47790748 -0.19378705  0.95390513 -0.68970073\n",
            "   1.17848036]\n",
            " [-0.92132724  0.72250438  0.98808912  1.1694912  -0.30070405 -0.38330071\n",
            "   0.8431327  -0.13967897 -0.67663234  2.3509824  -0.69498803 -0.68970073\n",
            "  -0.50904773]\n",
            " [ 0.05848269 -1.38407465  0.00809909  0.27631782  0.0599212  -0.38330071\n",
            "  -1.04610909  0.48795013 -0.67663234  0.35152069 -0.69498803 -0.68970073\n",
            "  -0.50904773]\n",
            " [ 0.60282153  0.72250438 -0.97189094 -0.79549023 -0.31968433  2.60891771\n",
            "   0.8431327   0.44311948  1.47790748  0.35152069  0.95390513  1.33342142\n",
            "   1.17848036]]\n"
          ]
        }
      ]
    },
    {
      "cell_type": "markdown",
      "source": [
        "5. **Calculate the % of Missing Values in a Column:**\n",
        "   - This step involves calculating the percentage of missing values for each column in the dataset. Identifying missing values is essential for deciding how to handle them in subsequent steps."
      ],
      "metadata": {
        "id": "0rWFa_MDbsFy"
      }
    },
    {
      "cell_type": "code",
      "source": [
        "missing_percentage = df.isnull().mean() * 100\n",
        "print(\"\\nPercentage of Missing Values in Each Column:\")\n",
        "print(missing_percentage)"
      ],
      "metadata": {
        "colab": {
          "base_uri": "https://localhost:8080/"
        },
        "id": "NAGVv0oRXgUF",
        "outputId": "a68337a3-44f5-4107-d50d-690254e45c70"
      },
      "execution_count": null,
      "outputs": [
        {
          "output_type": "stream",
          "name": "stdout",
          "text": [
            "\n",
            "Percentage of Missing Values in Each Column:\n",
            "age         0.0\n",
            "sex         0.0\n",
            "cp          0.0\n",
            "trestbps    0.0\n",
            "chol        0.0\n",
            "fbs         0.0\n",
            "restecg     0.0\n",
            "thalach     0.0\n",
            "exang       0.0\n",
            "oldpeak     0.0\n",
            "slope       0.0\n",
            "ca          0.0\n",
            "thal        0.0\n",
            "target      0.0\n",
            "dtype: float64\n"
          ]
        }
      ]
    },
    {
      "cell_type": "markdown",
      "source": [
        "6. **Remove Features with Missing Values (>20%):**\n",
        "   - Features (columns) with more than 20% missing values are often removed from the dataset to avoid bias and inaccuracies that might arise from excessive imputation.\n"
      ],
      "metadata": {
        "id": "eRyoz0mhcGkJ"
      }
    },
    {
      "cell_type": "code",
      "source": [
        "# Remove features with missing values (>20%)\n",
        "features_to_drop = missing_percentage[missing_percentage > 20].index\n",
        "df.drop(columns=features_to_drop)\n",
        "print(\"\\nFeatures dropped due to missing values > 20%:\")\n",
        "print(features_to_drop)\n"
      ],
      "metadata": {
        "colab": {
          "base_uri": "https://localhost:8080/"
        },
        "id": "KvzspagUXsY9",
        "outputId": "aa53e2dc-74be-4ef0-83a3-5055c17ddcac"
      },
      "execution_count": null,
      "outputs": [
        {
          "output_type": "stream",
          "name": "stdout",
          "text": [
            "\n",
            "Features dropped due to missing values > 20%:\n",
            "Index([], dtype='object')\n"
          ]
        }
      ]
    },
    {
      "cell_type": "markdown",
      "source": [
        "\n",
        "7. **If the Missing Values is <20%, Do Data Imputation (Mean/Median):**\n",
        "   - For columns with less than 20% missing values, imputation is performed. Mean or median imputation fills missing values with the average or median of the column, preserving the overall distribution of the data."
      ],
      "metadata": {
        "id": "ky89tLUvch_a"
      }
    },
    {
      "source": [
        "from sklearn.impute import SimpleImputer\n",
        "\n",
        "imputer = SimpleImputer(strategy='mean')\n",
        "df_imputed = pd.DataFrame(imputer.fit_transform(df), columns=df.columns)\n",
        "print(\"\\nData after imputation:\")\n",
        "print(df_imputed.head())"
      ],
      "cell_type": "code",
      "metadata": {
        "colab": {
          "base_uri": "https://localhost:8080/"
        },
        "id": "kTq4fzl0dSsb",
        "outputId": "a2f3573d-ca92-41e7-8363-b6c9a68477e2"
      },
      "execution_count": null,
      "outputs": [
        {
          "output_type": "stream",
          "name": "stdout",
          "text": [
            "\n",
            "Data after imputation:\n",
            "    age  sex   cp  trestbps   chol  fbs  restecg  thalach  exang  oldpeak  \\\n",
            "0  63.0  1.0  3.0     145.0  233.0  1.0      0.0    150.0    0.0      2.3   \n",
            "1  37.0  1.0  2.0     130.0  250.0  0.0      1.0    187.0    0.0      3.5   \n",
            "2  41.0  0.0  1.0     130.0  204.0  0.0      0.0    172.0    0.0      1.4   \n",
            "3  56.0  1.0  1.0     120.0  236.0  0.0      1.0    178.0    0.0      0.8   \n",
            "4  57.0  0.0  0.0     120.0  354.0  0.0      1.0    163.0    1.0      0.6   \n",
            "\n",
            "   slope   ca  thal  target  \n",
            "0    0.0  0.0   1.0     1.0  \n",
            "1    0.0  0.0   2.0     1.0  \n",
            "2    2.0  0.0   2.0     1.0  \n",
            "3    2.0  0.0   2.0     1.0  \n",
            "4    2.0  0.0   2.0     1.0  \n"
          ]
        }
      ]
    },
    {
      "cell_type": "markdown",
      "source": [
        "8. **Remove the Outliers:**\n",
        "   - Outliers can significantly skew the results of a machine learning model. Identifying and removing them, often using statistical methods like Z-score, helps in maintaining the integrity of the dataset."
      ],
      "metadata": {
        "id": "q0wBRTCadg7C"
      }
    },
    {
      "source": [
        "from scipy import stats\n",
        "import numpy as np\n",
        "\n",
        "z_scores = np.abs(stats.zscore(df.select_dtypes(include=[np.number])))\n",
        "outliers = (z_scores > 3).all(axis=1)\n",
        "df_cleaned = df[~outliers]\n",
        "print(f\"\\nData shape after removing outliers: {df_cleaned.shape}\")"
      ],
      "cell_type": "code",
      "metadata": {
        "colab": {
          "base_uri": "https://localhost:8080/"
        },
        "id": "5FzoOkQ5d5w7",
        "outputId": "890bc89d-512b-4bdc-d620-6a051397d7f0"
      },
      "execution_count": null,
      "outputs": [
        {
          "output_type": "stream",
          "name": "stdout",
          "text": [
            "\n",
            "Data shape after removing outliers: (303, 14)\n"
          ]
        }
      ]
    },
    {
      "cell_type": "markdown",
      "source": [
        "9. **Use sklearn VarianceThreshold to Find the Constant Features and Display the Constant Features:**\n",
        "   - The VarianceThreshold method identifies features with low variance, often constant features that do not provide any useful information for the model. Removing these features helps in reducing the dimensionality without losing information."
      ],
      "metadata": {
        "id": "fEBdRgFaeENT"
      }
    },
    {
      "cell_type": "code",
      "source": [
        "from sklearn.feature_selection import VarianceThreshold\n",
        "\n",
        "selector = VarianceThreshold(threshold=0.0)#can give any other values ex:1.0\n",
        "selector.fit(df_cleaned)\n",
        "constant_features = [column for column in df_cleaned.columns if column not in df_cleaned.columns[selector.get_support()]]\n",
        "print(\"\\nConstant features:\")\n",
        "print(constant_features)\n"
      ],
      "metadata": {
        "colab": {
          "base_uri": "https://localhost:8080/"
        },
        "id": "UpiiVtNgdzyH",
        "outputId": "dfd7f306-d52e-49c5-b974-ba5b76482893"
      },
      "execution_count": null,
      "outputs": [
        {
          "output_type": "stream",
          "name": "stdout",
          "text": [
            "\n",
            "Constant features:\n",
            "['sex', 'fbs', 'restecg', 'exang', 'slope', 'thal', 'target']\n"
          ]
        }
      ]
    },
    {
      "cell_type": "markdown",
      "source": [
        "10. **Remove Features with Low Variance:**\n",
        "    - After identifying constant or near-constant features, these are removed to improve model performance and reduce computational complexity."
      ],
      "metadata": {
        "id": "HBwBnzmGe9pT"
      }
    },
    {
      "cell_type": "code",
      "source": [
        "df_cleaned = df_cleaned[df_cleaned.columns[selector.get_support()]]\n",
        "print(f\"\\nData shape after removing low variance features: {df_cleaned.shape}\")\n"
      ],
      "metadata": {
        "colab": {
          "base_uri": "https://localhost:8080/"
        },
        "id": "lFu0Oz2ReKrL",
        "outputId": "45143f55-8e08-4ed0-8c07-3e084fbddbc7"
      },
      "execution_count": null,
      "outputs": [
        {
          "output_type": "stream",
          "name": "stdout",
          "text": [
            "\n",
            "Data shape after removing low variance features: (303, 7)\n"
          ]
        }
      ]
    },
    {
      "cell_type": "markdown",
      "source": [
        "11. **Remove Highly Correlated Features:**\n",
        "    - Highly correlated features can cause multicollinearity, which can degrade the model's performance. Identifying and removing these features ensures that each feature contributes unique information to the model.\n",
        "\n"
      ],
      "metadata": {
        "id": "qmAgBNRBfJpb"
      }
    },
    {
      "source": [
        "# Remove highly correlated features\n",
        "corr_matrix = df_cleaned.corr().abs()\n",
        "upper = corr_matrix.where(np.triu(np.ones(corr_matrix.shape), k=1).astype(bool)) # Use bool instead of np.bool\n",
        "highly_correlated_features = [column for column in upper.columns if any(upper[column] > 0.95)]\n",
        "df_cleaned.drop(columns=highly_correlated_features, inplace=True)\n",
        "print(\"\\nHighly correlated features removed:\")\n",
        "print(highly_correlated_features)"
      ],
      "cell_type": "code",
      "metadata": {
        "colab": {
          "base_uri": "https://localhost:8080/"
        },
        "id": "QZIfFBpyfldy",
        "outputId": "a17442ec-3d84-4de1-e86f-abb67ecaa9c7"
      },
      "execution_count": null,
      "outputs": [
        {
          "output_type": "stream",
          "name": "stdout",
          "text": [
            "\n",
            "Highly correlated features removed:\n",
            "[]\n"
          ]
        }
      ]
    },
    {
      "cell_type": "markdown",
      "source": [
        "12. **Perform Univariate Feature Selection (SelectKBest, SelectPercentile):**\n",
        "    - Univariate feature selection involves selecting the best features based on univariate statistical tests. Methods like SelectKBest or SelectPercentile help in retaining the most relevant features based on their statistical significance.\n",
        "\n"
      ],
      "metadata": {
        "id": "pRBlLl_-fNqB"
      }
    },
    {
      "cell_type": "code",
      "source": [
        "from sklearn.feature_selection import SelectKBest, f_classif\n",
        "\n",
        "kbest = SelectKBest(score_func=f_classif, k=10)\n",
        "X_kbest = kbest.fit_transform(X_train_scaled, y_train)\n",
        "print(f\"\\nShape after SelectKBest: {X_kbest.shape}\")\n"
      ],
      "metadata": {
        "colab": {
          "base_uri": "https://localhost:8080/"
        },
        "id": "fGJLB2PxfPwc",
        "outputId": "43a64471-a50e-45fc-b1b3-d2fa0c07ff6e"
      },
      "execution_count": null,
      "outputs": [
        {
          "output_type": "stream",
          "name": "stdout",
          "text": [
            "\n",
            "Shape after SelectKBest: (242, 10)\n"
          ]
        }
      ]
    },
    {
      "cell_type": "markdown",
      "source": [
        "13. **Apply Pearson Correlation Coefficient/Spearman’s Rank Coefficient and Find Correlation-Matrix with Heatmap:**\n",
        "    - These correlation coefficients measure the linear or monotonic relationship between features and the target variable. Visualizing the correlation matrix using a heatmap helps in understanding the relationships and identifying multicollinearity."
      ],
      "metadata": {
        "id": "loO6JRLPfQTB"
      }
    },
    {
      "cell_type": "code",
      "source": [
        "import seaborn as sns\n",
        "import matplotlib.pyplot as plt\n",
        "\n",
        "# Apply Pearson Correlation Coefficient and find Correlation-Matrix with Heatmap\n",
        "corr_matrix = df_cleaned.corr()\n",
        "plt.figure(figsize=(12, 8))\n",
        "sns.heatmap(corr_matrix, annot=True, cmap='coolwarm')\n",
        "plt.title(\"Correlation Matrix\")\n",
        "plt.show()\n"
      ],
      "metadata": {
        "colab": {
          "base_uri": "https://localhost:8080/",
          "height": 699
        },
        "id": "p3xE5Y7afTBv",
        "outputId": "d81a244c-7872-485a-fc38-b859932c3d65"
      },
      "execution_count": null,
      "outputs": [
        {
          "output_type": "display_data",
          "data": {
            "text/plain": [
              "<Figure size 1200x800 with 2 Axes>"
            ],
            "image/png": "[encoded data removed]"
          },
          "metadata": {}
        }
      ]
    },
    {
      "cell_type": "markdown",
      "source": [
        "\n",
        "\n",
        "14. **Apply Principal Component Analysis (PCA) for Matrix Factorization:**\n",
        "    - PCA is a dimensionality reduction technique that transforms the original features into a smaller set of uncorrelated features (principal components). This helps in reducing the dimensionality while retaining most of the variance in the data.\n",
        "\n"
      ],
      "metadata": {
        "id": "aH5yNfIbfTjh"
      }
    },
    {
      "cell_type": "code",
      "source": [
        "from sklearn.decomposition import PCA\n",
        "\n",
        "# Apply Principal Component Analysis (PCA) for matrix factorization\n",
        "pca = PCA(n_components=2)\n",
        "X_pca = pca.fit_transform(X_train_scaled)\n",
        "print(f\"\\nShape after PCA: {X_pca.shape}\")\n"
      ],
      "metadata": {
        "colab": {
          "base_uri": "https://localhost:8080/"
        },
        "id": "mKzCsWq9fV3f",
        "outputId": "810a373b-6f8d-4cbd-852f-6d2fd9b1dfd8"
      },
      "execution_count": null,
      "outputs": [
        {
          "output_type": "stream",
          "name": "stdout",
          "text": [
            "\n",
            "Shape after PCA: (242, 2)\n"
          ]
        }
      ]
    },
    {
      "cell_type": "markdown",
      "source": [
        "15. **Apply Linear Discriminant Analysis (LDA) to Perform Feature Extraction:**\n",
        "    - LDA is a supervised dimensionality reduction technique that finds the linear combinations of features that best separate the classes. This technique is particularly useful when the goal is to maximize class separability."
      ],
      "metadata": {
        "id": "HN8mJHBGfWXh"
      }
    },
    {
      "cell_type": "code",
      "source": [
        "from sklearn.discriminant_analysis import LinearDiscriminantAnalysis as LDA\n",
        "\n",
        "# Apply Linear Discriminant Analysis (LDA) to perform feature extraction\n",
        "lda = LDA(n_components=1)\n",
        "X_lda = lda.fit_transform(X_train_scaled, y_train)\n",
        "print(f\"\\nShape after LDA: {X_lda.shape}\")\n"
      ],
      "metadata": {
        "colab": {
          "base_uri": "https://localhost:8080/"
        },
        "id": "jP7L-bmEfW-8",
        "outputId": "b36ba381-ca4f-4dc6-ee29-afd7cdcf1215"
      },
      "execution_count": null,
      "outputs": [
        {
          "output_type": "stream",
          "name": "stdout",
          "text": [
            "\n",
            "Shape after LDA: (242, 1)\n"
          ]
        }
      ]
    },
    {
      "cell_type": "markdown",
      "source": [
        "**Results:**\n",
        "\n",
        "The dataset was split, scaled, and missing values addressed. Outliers and low-variance features were removed, and feature selection techniques, including PCA and LDA, were applied to enhance model performance."
      ],
      "metadata": {
        "id": "Rxbtft6miyCD"
      }
    },
    {
      "cell_type": "code",
      "source": [
        "# Import necessary libraries\n",
        "# import pandas as pd\n",
        "# import numpy as np\n",
        "# from sklearn.model_selection import train_test_split\n",
        "# from sklearn.preprocessing import StandardScaler\n",
        "# from sklearn.impute import SimpleImputer\n",
        "# from sklearn.feature_selection import VarianceThreshold, SelectKBest, f_classif\n",
        "# from sklearn.decomposition import PCA\n",
        "# from sklearn.discriminant_analysis import LinearDiscriminantAnalysis as LDA\n",
        "# import seaborn as sns\n",
        "# import matplotlib.pyplot as plt\n",
        "\n",
        "# # Load the dataset\n",
        "# df = pd.read_csv('/content/heart.csv')  # Adjust the path if needed\n",
        "\n",
        "# # 1. Read and analyze the data\n",
        "# print(\"Dataset Overview:\")\n",
        "# print(df.head())\n",
        "# print(\"\\nDataset Description:\")\n",
        "# print(df.describe())\n",
        "\n",
        "# # 2. Split the dataset into train and test sets\n",
        "# X = df.drop('target', axis=1)\n",
        "# y = df['target']\n",
        "# X_train, X_test, y_train, y_test = train_test_split(X, y, test_size=0.2, random_state=42)\n",
        "\n",
        "# # 3. Check shape of training and test sets\n",
        "# print(f\"Training set shape: {X_train.shape}\")\n",
        "# print(f\"Test set shape: {X_test.shape}\")\n",
        "\n",
        "# # 4. Perform scaling in the data using Standard Scaler\n",
        "# scaler = StandardScaler()\n",
        "# X_train_scaled = scaler.fit_transform(X_train)\n",
        "# X_test_scaled = scaler.transform(X_test)\n",
        "\n",
        "# # 5. Calculate the % of missing values in a column\n",
        "# missing_percentage = df.isnull().mean() * 100\n",
        "# print(\"\\nPercentage of Missing Values in Each Column:\")\n",
        "# print(missing_percentage)\n",
        "\n",
        "# # 6. Remove features with missing values (>20%)\n",
        "# features_to_drop = missing_percentage[missing_percentage > 20].index\n",
        "# df.drop(columns=features_to_drop, inplace=True)\n",
        "# print(\"\\nFeatures dropped due to missing values > 20%:\")\n",
        "# print(features_to_drop)\n",
        "\n",
        "# # 7. If the missing values is <20%, do data imputation (mean/median)\n",
        "# imputer = SimpleImputer(strategy='mean')\n",
        "# df_imputed = pd.DataFrame(imputer.fit_transform(df), columns=df.columns)\n",
        "# print(\"\\nData after imputation:\")\n",
        "# print(df_imputed.head())\n",
        "\n",
        "# # 8. Remove the outliers\n",
        "# from scipy import stats\n",
        "# z_scores = np.abs(stats.zscore(df_imputed.select_dtypes(include=[np.number])))\n",
        "# outliers = (z_scores > 3).all(axis=1)\n",
        "# df_cleaned = df_imputed[~outliers]\n",
        "# print(f\"\\nData shape after removing outliers: {df_cleaned.shape}\")\n",
        "\n",
        "# # 9. Use sklearn VarianceThreshold to find the constant features and display the constant features\n",
        "# selector = VarianceThreshold(threshold=0.0)\n",
        "# selector.fit(df_cleaned)\n",
        "# constant_features = [column for column in df_cleaned.columns if column not in df_cleaned.columns[selector.get_support()]]\n",
        "# print(\"\\nConstant features:\")\n",
        "# print(constant_features)\n",
        "\n",
        "# # 10. Remove features with low variance\n",
        "# df_cleaned = df_cleaned[df_cleaned.columns[selector.get_support()]]\n",
        "# print(f\"\\nData shape after removing low variance features: {df_cleaned.shape}\")\n",
        "\n",
        "# # 11. Remove highly correlated features\n",
        "# corr_matrix = df_cleaned.corr().abs()\n",
        "# upper = corr_matrix.where(np.triu(np.ones(corr_matrix.shape), k=1).astype(np.bool))\n",
        "# highly_correlated_features = [column for column in upper.columns if any(upper[column] > 0.95)]\n",
        "# df_cleaned.drop(columns=highly_correlated_features, inplace=True)\n",
        "# print(\"\\nHighly correlated features removed:\")\n",
        "# print(highly_correlated_features)\n",
        "\n",
        "# # 12. Perform Univariate feature selection (SelectKBest, SelectPercentile)\n",
        "# kbest = SelectKBest(score_func=f_classif, k=10)\n",
        "# X_kbest = kbest.fit_transform(X_train_scaled, y_train)\n",
        "# print(f\"\\nShape after SelectKBest: {X_kbest.shape}\")\n",
        "\n",
        "# # 13. Apply Pearson Correlation Coefficient/Spearman’s rank coefficient and find Correlation-Matrix with Heatmap\n",
        "# corr_matrix = df_cleaned.corr()\n",
        "# plt.figure(figsize=(12, 8))\n",
        "# sns.heatmap(corr_matrix, annot=True, cmap='coolwarm')\n",
        "# plt.title(\"Correlation Matrix\")\n",
        "# plt.show()\n",
        "\n",
        "# # 14. Apply Principal Component Analysis (PCA) for matrix factorization\n",
        "# pca = PCA(n_components=2)\n",
        "# X_pca = pca.fit_transform(X_train_scaled)\n",
        "# print(f\"\\nShape after PCA: {X_pca.shape}\")\n",
        "\n",
        "# # 15. Apply Linear Discriminant Analysis (LDA) to perform feature extraction\n",
        "# lda = LDA(n_components=1)\n",
        "# X_lda = lda.fit_transform(X_train_scaled, y_train)\n",
        "# print(f\"\\nShape after LDA: {X_lda.shape}\")\n"
      ],
      "metadata": {
        "id": "JSvkVVc1f_vs"
      },
      "execution_count": null,
      "outputs": []
    }
  ]
}