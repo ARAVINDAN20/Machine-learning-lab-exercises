{
  "nbformat": 4,
  "nbformat_minor": 0,
  "metadata": {
    "colab": {
      "provenance": []
    },
    "kernelspec": {
      "name": "python3",
      "display_name": "Python 3"
    },
    "language_info": {
      "name": "python"
    }
  },
  "cells": [
    {
      "cell_type": "code",
      "execution_count": 2,
      "metadata": {
        "colab": {
          "base_uri": "https://localhost:8080/",
          "height": 0
        },
        "id": "OTcWFzhOHqiJ",
        "outputId": "b4b415c5-ca68-448c-e982-c3fb9c3e41b3"
      },
      "outputs": [
        {
          "output_type": "stream",
          "name": "stdout",
          "text": [
            "Mounted at /content/drive\n"
          ]
        }
      ],
      "source": [
        "#loading drive\n",
        "from google.colab import drive\n",
        "drive.mount('/content/drive',force_remount=True)\n",
        "\n"
      ]
    },
    {
      "cell_type": "code",
      "source": [
        "#Read CSV file\n",
        "import numpy as np\n",
        "import pandas as pd\n",
        "path=\"drive/My Drive/Colab Notebooks/Movies.csv\"\n",
        "df=pd.read_csv(path)"
      ],
      "metadata": {
        "id": "JHyOiadBAD_C"
      },
      "execution_count": 3,
      "outputs": []
    },
    {
      "cell_type": "code",
      "source": [
        "# Importing necessary libraries\n",
        "from sklearn.feature_extraction.text import TfidfVectorizer\n",
        "from sklearn.metrics.pairwise import cosine_similarity"
      ],
      "metadata": {
        "id": "DsJQ0jFI5FG4"
      },
      "execution_count": 4,
      "outputs": []
    },
    {
      "cell_type": "code",
      "source": [
        "print(df['title'])"
      ],
      "metadata": {
        "colab": {
          "base_uri": "https://localhost:8080/",
          "height": 0
        },
        "id": "Bb-VyDz2AfZE",
        "outputId": "f208c6a8-5c85-45f7-cddb-e1d9fe45e593"
      },
      "execution_count": 5,
      "outputs": [
        {
          "output_type": "stream",
          "name": "stdout",
          "text": [
            "0                                Toy Story \n",
            "1                                  Jumanji \n",
            "2                         Grumpier Old Men \n",
            "3                        Waiting to Exhale \n",
            "4              Father of the Bride Part II \n",
            "                       ...                 \n",
            "9737    Black Butler: Book of the Atlantic \n",
            "9738                 No Game No Life: Zero \n",
            "9739                                 Flint \n",
            "9740          Bungo Stray Dogs: Dead Apple \n",
            "9741          Andrew Dice Clay: Dice Rules \n",
            "Name: title, Length: 9742, dtype: object\n"
          ]
        }
      ]
    },
    {
      "cell_type": "code",
      "source": [
        "movies=df.iloc[:, 1:2]\n",
        "movies['title']= movies['title'].str.strip()\n",
        "tf = TfidfVectorizer()\n",
        "tfidf_matrix = tf.fit_transform(movies['title'])\n",
        "print(tfidf_matrix.shape)\n",
        "cosine_sim = cosine_similarity(tfidf_matrix, tfidf_matrix)\n",
        "#print(cosine_sim.shape)\n"
      ],
      "metadata": {
        "id": "lhI4rRSCJLKh",
        "colab": {
          "base_uri": "https://localhost:8080/",
          "height": 0
        },
        "outputId": "dc09dbd0-3b76-43dd-8a28-a5f349cebe6c"
      },
      "execution_count": 7,
      "outputs": [
        {
          "output_type": "stream",
          "name": "stdout",
          "text": [
            "(9742, 9185)\n"
          ]
        }
      ]
    },
    {
      "cell_type": "code",
      "source": [
        "titles = movies['title']\n",
        "indices = pd.Series(movies.index, index=movies['title'])\n",
        "\n",
        "title = input(\"Enter the movie related to recommend: \")\n",
        "num = int(input(\"Number of recommendations: \"))\n",
        "\n",
        "idx = indices[title]\n",
        "sim_scores = list(enumerate(cosine_sim[idx]))\n",
        "sim_scores = sorted(sim_scores, key=lambda x: x[1], reverse=True)\n",
        "sim_scores = sim_scores[1:num+1]\n",
        "movie_indices = [i[0] for i in sim_scores]\n",
        "scores = [i[1] for i in sim_scores]\n",
        "\n",
        "print(\"Recommending movies similar to \" + title + \"...\")\n",
        "print(\"-------\")\n",
        "for rec in range(num):\n",
        "    print(\"Recommended: \" + titles[movie_indices[rec]] + \" (score:\" + str(scores[rec]) + \")\")"
      ],
      "metadata": {
        "colab": {
          "base_uri": "https://localhost:8080/",
          "height": 0
        },
        "id": "5jhZZo9q8txd",
        "outputId": "ceb2a738-6212-42ed-9494-47e6f2f8a960"
      },
      "execution_count": 8,
      "outputs": [
        {
          "output_type": "stream",
          "name": "stdout",
          "text": [
            "Enter the movie related to recommend: Toy Story\n",
            "Number of recommendations: 3\n",
            "Recommending movies similar to Toy Story...\n",
            "-------\n",
            "Recommended: Toy Story 2 (score:1.0)\n",
            "Recommended: Toy Story 3 (score:1.0)\n",
            "Recommended: Toy, The (score:0.7963381229003546)\n"
          ]
        }
      ]
    }
  ]
}